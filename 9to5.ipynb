{
    "metadata": {
        "kernelspec": {
            "name": "SQL",
            "display_name": "SQL",
            "language": "sql"
        },
        "language_info": {
            "name": "sql",
            "version": ""
        },
        "extensions": {
            "azuredatastudio": {
                "version": 1,
                "views": []
            }
        }
    },
    "nbformat_minor": 2,
    "nbformat": 4,
    "cells": [
        {
            "cell_type": "markdown",
            "source": [
                "# <span style=\"font-size: 20pt; font-family: Montserrat, sans-serif; color: rgb(92, 148, 206); background-color: rgb(255, 255, 255); font-weight: 700; font-variant-east-asian: normal; vertical-align: baseline; white-space: pre-wrap;\">Graded Assignment 3: 9 to 5</span>\n",
                "\n",
                "  \n",
                "\n",
                "<span style=\"font-size: 10pt; font-family: &quot;Times New Roman&quot;; color: rgb(102, 102, 102); background-color: rgb(255, 255, 255); font-variant-east-asian: normal; vertical-align: baseline; white-space: pre-wrap;\">Time to show off your SQL skills! For each question, copy the SQL query you used and make note of the answer.</span>\n",
                "\n",
                "  \n",
                "\n",
                "## <span style=\"font-size: 12pt; font-family: Montserrat, sans-serif; color: rgb(53, 74, 95); background-color: rgb(255, 255, 255); font-weight: 700; font-variant-east-asian: normal; vertical-align: baseline; white-space: pre-wrap;\">The Dataset</span>\n",
                "\n",
                "<span style=\"font-size: 10pt; font-family: &quot;Times New Roman&quot;; color: rgb(102, 102, 102); background-color: rgb(255, 255, 255); font-variant-east-asian: normal; vertical-align: baseline; white-space: pre-wrap;\">For this assignment, you will be using the Bureau of Labor Statistics (BLS) Current Employment Survey (CES) results which can be found on</span> [<span style=\"font-size: 10pt; font-family: &quot;Times New Roman&quot;; color: rgb(17, 85, 204); background-color: rgb(255, 255, 255); font-variant-east-asian: normal; text-decoration-line: underline; vertical-align: baseline; white-space: pre-wrap;\">Kaggle</span>](https://www.kaggle.com/bls/employment)<span style=\"font-size: 10pt; font-family: &quot;Times New Roman&quot;; color: rgb(102, 102, 102); background-color: rgb(255, 255, 255); font-variant-east-asian: normal; vertical-align: baseline; white-space: pre-wrap;\">.</span>\n",
                "\n",
                "  \n",
                "\n",
                "## <span style=\"font-size: 12pt; font-family: Montserrat, sans-serif; color: rgb(53, 74, 95); background-color: rgb(255, 255, 255); font-weight: 700; font-variant-east-asian: normal; vertical-align: baseline; white-space: pre-wrap;\">Business Issue</span>\n",
                "\n",
                "<span style=\"font-size: 10pt; font-family: &quot;Times New Roman&quot;; color: rgb(102, 102, 102); background-color: rgb(255, 255, 255); font-variant-east-asian: normal; vertical-align: baseline; white-space: pre-wrap;\">You are working for the Bureau of Labor Statistics with the United States government and have been approached by your boss with an important meeting request. You have been asked by your supervisor to meet with Dolly Parton whose nonprofit is looking to shed light on the state of employment in the United States. As part of the 9 to 5 project, their research is focused on production and nonsupervisory employees and how those employees fare compared to all employees in the United States. While the data the BLS collects from the CES is publicly available, Dolly Parton and her colleagues need your assistance navigating the thousands of rows in each table in LaborStatisticsDB.</span>\n",
                "\n",
                "  \n",
                "\n",
                "## <span style=\"font-size: 12pt; font-family: Montserrat, sans-serif; color: rgb(53, 74, 95); background-color: rgb(255, 255, 255); font-weight: 700; font-variant-east-asian: normal; vertical-align: baseline; white-space: pre-wrap;\">About the Dataset</span>\n",
                "\n",
                "<span style=\"font-size: 10pt; font-family: &quot;Times New Roman&quot;; color: rgb(102, 102, 102); background-color: rgb(255, 255, 255); font-variant-east-asian: normal; vertical-align: baseline; white-space: pre-wrap;\">This dataset comes directly from the Bureau of Labor Statistics’ Current Employment Survey (CES). Here are some things you need to know:</span>\n",
                "\n",
                "1. <span style=\"font-size: 10pt; background-color: rgb(255, 255, 255); font-variant-east-asian: normal; vertical-align: baseline; white-space: pre-wrap;\">The industry table contains an NAICS code. This is different from the industry code. NAICS stands for North American Industry Classification System.</span>\n",
                "    \n",
                "2. <span style=\"font-size: 10pt; background-color: rgb(255, 255, 255); font-variant-east-asian: normal; vertical-align: baseline; white-space: pre-wrap;\">Series ID is composed of multiple different codes. CES stands for Current Employment Survey, the name of the survey which collected the data. The industry code as specified by the BLS and the data type code as specified in the datatype table.</span>\n",
                "    \n",
                "\n",
                "  \n",
                "\n",
                "## <span style=\"font-size: 12pt; font-family: Montserrat, sans-serif; color: rgb(53, 74, 95); background-color: rgb(255, 255, 255); font-weight: 700; font-variant-east-asian: normal; vertical-align: baseline; white-space: pre-wrap;\">Set Up</span>\n",
                "\n",
                "<span style=\"font-size: 10pt; font-family: &quot;Times New Roman&quot;; color: rgb(102, 102, 102); background-color: rgb(255, 255, 255); font-variant-east-asian: normal; vertical-align: baseline; white-space: pre-wrap;\">To connect to the database, use the same connection info used during the SQL lessons.&nbsp;</span> \n",
                "\n",
                "<span style=\"font-size: 10pt; font-family: &quot;Times New Roman&quot;; color: rgb(102, 102, 102); background-color: rgb(255, 255, 255); font-variant-east-asian: normal; vertical-align: baseline; white-space: pre-wrap;\">For the assignment, we will be using the LaborStatisticsDB database.</span>\n",
                "\n",
                "  \n",
                "\n",
                "## <span style=\"font-size: 12pt; font-family: Montserrat, sans-serif; color: rgb(53, 74, 95); background-color: rgb(255, 255, 255); font-weight: 700; font-variant-east-asian: normal; vertical-align: baseline; white-space: pre-wrap;\">Database Exploration</span>\n",
                "\n",
                "<span style=\"font-size: 10pt; font-family: &quot;Times New Roman&quot;; color: rgb(102, 102, 102); background-color: rgb(255, 255, 255); font-variant-east-asian: normal; vertical-align: baseline; white-space: pre-wrap;\">To start with, let’s get to know the database further.</span>\n",
                "\n",
                "1. <span style=\"background-color: rgb(255, 255, 255); color: rgb(102, 102, 102); font-family: &quot;Times New Roman&quot;; font-size: 10pt; white-space: pre-wrap;\">Use this space to make note of each table in the database, the columns within each table, each column’s data type, and how the tables are connected. You can write this down or draw a diagram. Whatever method helps you get an understanding of what is going on with LaborStatisticsDB.</span>"
            ],
            "metadata": {
                "azdata_cell_guid": "28ea70c5-f0be-4197-b6c0-ade22886a708"
            },
            "attachments": {}
        },
        {
            "cell_type": "markdown",
            "source": [
                "To add a photo, diagram or document to your file, drop the file into the folder that holds this notebook.  Use the the link button to the right of the  \\</\\> symbol in the gray part of this cell, the link is just the name of your file."
            ],
            "metadata": {
                "azdata_cell_guid": "aeae906c-752c-49d3-b482-3ed6a4f54b6e"
            },
            "attachments": {}
        },
        {
            "cell_type": "code",
            "source": [
                "USE LaborstatisticsDB\r\n",
                "SELECT TOP 50*\r\n",
                "FROM annual_2016\r\n",
                "ORDER BY series_id"
            ],
            "metadata": {
                "azdata_cell_guid": "dbf3633e-8503-49e6-b128-cf010d1558cf",
                "language": "sql",
                "tags": []
            },
            "outputs": [
                {
                    "output_type": "display_data",
                    "data": {
                        "text/html": "(50 rows affected)"
                    },
                    "metadata": {}
                },
                {
                    "output_type": "display_data",
                    "data": {
                        "text/html": "Total execution time: 00:00:00.108"
                    },
                    "metadata": {}
                },
                {
                    "output_type": "execute_result",
                    "execution_count": 58,
                    "data": {
                        "application/vnd.dataresource+json": {
                            "schema": {
                                "fields": [
                                    {
                                        "name": "id"
                                    },
                                    {
                                        "name": "series_id"
                                    },
                                    {
                                        "name": "year"
                                    },
                                    {
                                        "name": "period"
                                    },
                                    {
                                        "name": "value"
                                    },
                                    {
                                        "name": "footnote_codes"
                                    },
                                    {
                                        "name": "original_file"
                                    }
                                ]
                            },
                            "data": [
                                {
                                    "0": "8755",
                                    "1": "CEU0000000001",
                                    "2": "2016",
                                    "3": "M13",
                                    "4": "144306",
                                    "5": "NULL",
                                    "6": "ce.data.0.AllCESSeries.csv"
                                },
                                {
                                    "0": "22220",
                                    "1": "CEU0000000001",
                                    "2": "2016",
                                    "3": "M13",
                                    "4": "144306",
                                    "5": "NULL",
                                    "6": "ce.data.00a.TotalNonfarm.Employment.csv"
                                },
                                {
                                    "0": "8756",
                                    "1": "CEU0000000010",
                                    "2": "2016",
                                    "3": "M13",
                                    "4": "71492",
                                    "5": "NULL",
                                    "6": "ce.data.0.AllCESSeries.csv"
                                },
                                {
                                    "0": "22221",
                                    "1": "CEU0000000010",
                                    "2": "2016",
                                    "3": "M13",
                                    "4": "71492",
                                    "5": "NULL",
                                    "6": "ce.data.00a.TotalNonfarm.Employment.csv"
                                },
                                {
                                    "0": "6281",
                                    "1": "CEU0500000001",
                                    "2": "2016",
                                    "3": "M13",
                                    "4": "122083",
                                    "5": "NULL",
                                    "6": "ce.data.05a.TotalPrivate.Employment.csv"
                                },
                                {
                                    "0": "8757",
                                    "1": "CEU0500000001",
                                    "2": "2016",
                                    "3": "M13",
                                    "4": "122083",
                                    "5": "NULL",
                                    "6": "ce.data.0.AllCESSeries.csv"
                                },
                                {
                                    "0": "7954",
                                    "1": "CEU0500000002",
                                    "2": "2016",
                                    "3": "M13",
                                    "4": "34.4",
                                    "5": "NULL",
                                    "6": "ce.data.05b.TotalPrivate.AllEmployeeHoursAndEarnings.csv"
                                },
                                {
                                    "0": "8758",
                                    "1": "CEU0500000002",
                                    "2": "2016",
                                    "3": "M13",
                                    "4": "34.4",
                                    "5": "NULL",
                                    "6": "ce.data.0.AllCESSeries.csv"
                                },
                                {
                                    "0": "7955",
                                    "1": "CEU0500000003",
                                    "2": "2016",
                                    "3": "M13",
                                    "4": "25.65",
                                    "5": "NULL",
                                    "6": "ce.data.05b.TotalPrivate.AllEmployeeHoursAndEarnings.csv"
                                },
                                {
                                    "0": "8759",
                                    "1": "CEU0500000003",
                                    "2": "2016",
                                    "3": "M13",
                                    "4": "25.65",
                                    "5": "NULL",
                                    "6": "ce.data.0.AllCESSeries.csv"
                                },
                                {
                                    "0": "6282",
                                    "1": "CEU0500000006",
                                    "2": "2016",
                                    "3": "M13",
                                    "4": "100531",
                                    "5": "NULL",
                                    "6": "ce.data.05a.TotalPrivate.Employment.csv"
                                },
                                {
                                    "0": "8760",
                                    "1": "CEU0500000006",
                                    "2": "2016",
                                    "3": "M13",
                                    "4": "100531",
                                    "5": "NULL",
                                    "6": "ce.data.0.AllCESSeries.csv"
                                },
                                {
                                    "0": "5721",
                                    "1": "CEU0500000007",
                                    "2": "2016",
                                    "3": "M13",
                                    "4": "33.6",
                                    "5": "NULL",
                                    "6": "ce.data.05c.TotalPrivate.ProductionEmployeeHoursAndEarnings.csv"
                                },
                                {
                                    "0": "8761",
                                    "1": "CEU0500000007",
                                    "2": "2016",
                                    "3": "M13",
                                    "4": "33.6",
                                    "5": "NULL",
                                    "6": "ce.data.0.AllCESSeries.csv"
                                },
                                {
                                    "0": "5722",
                                    "1": "CEU0500000008",
                                    "2": "2016",
                                    "3": "M13",
                                    "4": "21.54",
                                    "5": "NULL",
                                    "6": "ce.data.05c.TotalPrivate.ProductionEmployeeHoursAndEarnings.csv"
                                },
                                {
                                    "0": "8762",
                                    "1": "CEU0500000008",
                                    "2": "2016",
                                    "3": "M13",
                                    "4": "21.54",
                                    "5": "NULL",
                                    "6": "ce.data.0.AllCESSeries.csv"
                                },
                                {
                                    "0": "6283",
                                    "1": "CEU0500000010",
                                    "2": "2016",
                                    "3": "M13",
                                    "4": "58747",
                                    "5": "NULL",
                                    "6": "ce.data.05a.TotalPrivate.Employment.csv"
                                },
                                {
                                    "0": "8763",
                                    "1": "CEU0500000010",
                                    "2": "2016",
                                    "3": "M13",
                                    "4": "58747",
                                    "5": "NULL",
                                    "6": "ce.data.0.AllCESSeries.csv"
                                },
                                {
                                    "0": "7956",
                                    "1": "CEU0500000011",
                                    "2": "2016",
                                    "3": "M13",
                                    "4": "881.55",
                                    "5": "NULL",
                                    "6": "ce.data.05b.TotalPrivate.AllEmployeeHoursAndEarnings.csv"
                                },
                                {
                                    "0": "8764",
                                    "1": "CEU0500000011",
                                    "2": "2016",
                                    "3": "M13",
                                    "4": "881.55",
                                    "5": "NULL",
                                    "6": "ce.data.0.AllCESSeries.csv"
                                },
                                {
                                    "0": "3808",
                                    "1": "CEU0500000012",
                                    "2": "2016",
                                    "3": "M13",
                                    "4": "367.3",
                                    "5": "NULL",
                                    "6": "ce.data.02b.AllRealEarningsAE.csv"
                                },
                                {
                                    "0": "7957",
                                    "1": "CEU0500000012",
                                    "2": "2016",
                                    "3": "M13",
                                    "4": "367.3",
                                    "5": "NULL",
                                    "6": "ce.data.05b.TotalPrivate.AllEmployeeHoursAndEarnings.csv"
                                },
                                {
                                    "0": "8765",
                                    "1": "CEU0500000012",
                                    "2": "2016",
                                    "3": "M13",
                                    "4": "367.3",
                                    "5": "NULL",
                                    "6": "ce.data.0.AllCESSeries.csv"
                                },
                                {
                                    "0": "3809",
                                    "1": "CEU0500000013",
                                    "2": "2016",
                                    "3": "M13",
                                    "4": "10.69",
                                    "5": "NULL",
                                    "6": "ce.data.02b.AllRealEarningsAE.csv"
                                },
                                {
                                    "0": "7958",
                                    "1": "CEU0500000013",
                                    "2": "2016",
                                    "3": "M13",
                                    "4": "10.69",
                                    "5": "NULL",
                                    "6": "ce.data.05b.TotalPrivate.AllEmployeeHoursAndEarnings.csv"
                                },
                                {
                                    "0": "8766",
                                    "1": "CEU0500000013",
                                    "2": "2016",
                                    "3": "M13",
                                    "4": "10.69",
                                    "5": "NULL",
                                    "6": "ce.data.0.AllCESSeries.csv"
                                },
                                {
                                    "0": "7959",
                                    "1": "CEU0500000016",
                                    "2": "2016",
                                    "3": "M13",
                                    "4": "105.3",
                                    "5": "NULL",
                                    "6": "ce.data.05b.TotalPrivate.AllEmployeeHoursAndEarnings.csv"
                                },
                                {
                                    "0": "8767",
                                    "1": "CEU0500000016",
                                    "2": "2016",
                                    "3": "M13",
                                    "4": "105.3",
                                    "5": "NULL",
                                    "6": "ce.data.0.AllCESSeries.csv"
                                },
                                {
                                    "0": "7960",
                                    "1": "CEU0500000017",
                                    "2": "2016",
                                    "3": "M13",
                                    "4": "129.1",
                                    "5": "NULL",
                                    "6": "ce.data.05b.TotalPrivate.AllEmployeeHoursAndEarnings.csv"
                                },
                                {
                                    "0": "8768",
                                    "1": "CEU0500000017",
                                    "2": "2016",
                                    "3": "M13",
                                    "4": "129.1",
                                    "5": "NULL",
                                    "6": "ce.data.0.AllCESSeries.csv"
                                },
                                {
                                    "0": "5723",
                                    "1": "CEU0500000030",
                                    "2": "2016",
                                    "3": "M13",
                                    "4": "723.69",
                                    "5": "NULL",
                                    "6": "ce.data.05c.TotalPrivate.ProductionEmployeeHoursAndEarnings.csv"
                                },
                                {
                                    "0": "8769",
                                    "1": "CEU0500000030",
                                    "2": "2016",
                                    "3": "M13",
                                    "4": "723.69",
                                    "5": "NULL",
                                    "6": "ce.data.0.AllCESSeries.csv"
                                },
                                {
                                    "0": "5724",
                                    "1": "CEU0500000031",
                                    "2": "2016",
                                    "3": "M13",
                                    "4": "309.17",
                                    "5": "NULL",
                                    "6": "ce.data.05c.TotalPrivate.ProductionEmployeeHoursAndEarnings.csv"
                                },
                                {
                                    "0": "8770",
                                    "1": "CEU0500000031",
                                    "2": "2016",
                                    "3": "M13",
                                    "4": "309.17",
                                    "5": "NULL",
                                    "6": "ce.data.0.AllCESSeries.csv"
                                },
                                {
                                    "0": "26206",
                                    "1": "CEU0500000031",
                                    "2": "2016",
                                    "3": "M13",
                                    "4": "309.17",
                                    "5": "NULL",
                                    "6": "ce.data.03c.AllRealEarningsPE.csv"
                                },
                                {
                                    "0": "5725",
                                    "1": "CEU0500000032",
                                    "2": "2016",
                                    "3": "M13",
                                    "4": "9.2",
                                    "5": "NULL",
                                    "6": "ce.data.05c.TotalPrivate.ProductionEmployeeHoursAndEarnings.csv"
                                },
                                {
                                    "0": "8771",
                                    "1": "CEU0500000032",
                                    "2": "2016",
                                    "3": "M13",
                                    "4": "9.2",
                                    "5": "NULL",
                                    "6": "ce.data.0.AllCESSeries.csv"
                                },
                                {
                                    "0": "26207",
                                    "1": "CEU0500000032",
                                    "2": "2016",
                                    "3": "M13",
                                    "4": "9.2",
                                    "5": "NULL",
                                    "6": "ce.data.03c.AllRealEarningsPE.csv"
                                },
                                {
                                    "0": "5726",
                                    "1": "CEU0500000034",
                                    "2": "2016",
                                    "3": "M13",
                                    "4": "112.5",
                                    "5": "NULL",
                                    "6": "ce.data.05c.TotalPrivate.ProductionEmployeeHoursAndEarnings.csv"
                                },
                                {
                                    "0": "8772",
                                    "1": "CEU0500000034",
                                    "2": "2016",
                                    "3": "M13",
                                    "4": "112.5",
                                    "5": "NULL",
                                    "6": "ce.data.0.AllCESSeries.csv"
                                },
                                {
                                    "0": "5727",
                                    "1": "CEU0500000035",
                                    "2": "2016",
                                    "3": "M13",
                                    "4": "162",
                                    "5": "NULL",
                                    "6": "ce.data.05c.TotalPrivate.ProductionEmployeeHoursAndEarnings.csv"
                                },
                                {
                                    "0": "8773",
                                    "1": "CEU0500000035",
                                    "2": "2016",
                                    "3": "M13",
                                    "4": "162",
                                    "5": "NULL",
                                    "6": "ce.data.0.AllCESSeries.csv"
                                },
                                {
                                    "0": "7961",
                                    "1": "CEU0500000056",
                                    "2": "2016",
                                    "3": "M13",
                                    "4": "4195743",
                                    "5": "NULL",
                                    "6": "ce.data.05b.TotalPrivate.AllEmployeeHoursAndEarnings.csv"
                                },
                                {
                                    "0": "8774",
                                    "1": "CEU0500000056",
                                    "2": "2016",
                                    "3": "M13",
                                    "4": "4195743",
                                    "5": "NULL",
                                    "6": "ce.data.0.AllCESSeries.csv"
                                },
                                {
                                    "0": "7962",
                                    "1": "CEU0500000057",
                                    "2": "2016",
                                    "3": "M13",
                                    "4": "107621623",
                                    "5": "NULL",
                                    "6": "ce.data.05b.TotalPrivate.AllEmployeeHoursAndEarnings.csv"
                                },
                                {
                                    "0": "8775",
                                    "1": "CEU0500000057",
                                    "2": "2016",
                                    "3": "M13",
                                    "4": "107621623",
                                    "5": "NULL",
                                    "6": "ce.data.0.AllCESSeries.csv"
                                },
                                {
                                    "0": "5728",
                                    "1": "CEU0500000081",
                                    "2": "2016",
                                    "3": "M13",
                                    "4": "3377192",
                                    "5": "NULL",
                                    "6": "ce.data.05c.TotalPrivate.ProductionEmployeeHoursAndEarnings.csv"
                                },
                                {
                                    "0": "8776",
                                    "1": "CEU0500000081",
                                    "2": "2016",
                                    "3": "M13",
                                    "4": "3377192",
                                    "5": "NULL",
                                    "6": "ce.data.0.AllCESSeries.csv"
                                },
                                {
                                    "0": "5729",
                                    "1": "CEU0500000082",
                                    "2": "2016",
                                    "3": "M13",
                                    "4": "72752850",
                                    "5": "NULL",
                                    "6": "ce.data.05c.TotalPrivate.ProductionEmployeeHoursAndEarnings.csv"
                                },
                                {
                                    "0": "8777",
                                    "1": "CEU0500000082",
                                    "2": "2016",
                                    "3": "M13",
                                    "4": "72752850",
                                    "5": "NULL",
                                    "6": "ce.data.0.AllCESSeries.csv"
                                }
                            ]
                        },
                        "text/html": "<table><tr><th>id</th><th>series_id</th><th>year</th><th>period</th><th>value</th><th>footnote_codes</th><th>original_file</th></tr><tr><td>8755</td><td>CEU0000000001</td><td>2016</td><td>M13</td><td>144306</td><td>NULL</td><td>ce.data.0.AllCESSeries.csv</td></tr><tr><td>22220</td><td>CEU0000000001</td><td>2016</td><td>M13</td><td>144306</td><td>NULL</td><td>ce.data.00a.TotalNonfarm.Employment.csv</td></tr><tr><td>8756</td><td>CEU0000000010</td><td>2016</td><td>M13</td><td>71492</td><td>NULL</td><td>ce.data.0.AllCESSeries.csv</td></tr><tr><td>22221</td><td>CEU0000000010</td><td>2016</td><td>M13</td><td>71492</td><td>NULL</td><td>ce.data.00a.TotalNonfarm.Employment.csv</td></tr><tr><td>6281</td><td>CEU0500000001</td><td>2016</td><td>M13</td><td>122083</td><td>NULL</td><td>ce.data.05a.TotalPrivate.Employment.csv</td></tr><tr><td>8757</td><td>CEU0500000001</td><td>2016</td><td>M13</td><td>122083</td><td>NULL</td><td>ce.data.0.AllCESSeries.csv</td></tr><tr><td>7954</td><td>CEU0500000002</td><td>2016</td><td>M13</td><td>34.4</td><td>NULL</td><td>ce.data.05b.TotalPrivate.AllEmployeeHoursAndEarnings.csv</td></tr><tr><td>8758</td><td>CEU0500000002</td><td>2016</td><td>M13</td><td>34.4</td><td>NULL</td><td>ce.data.0.AllCESSeries.csv</td></tr><tr><td>7955</td><td>CEU0500000003</td><td>2016</td><td>M13</td><td>25.65</td><td>NULL</td><td>ce.data.05b.TotalPrivate.AllEmployeeHoursAndEarnings.csv</td></tr><tr><td>8759</td><td>CEU0500000003</td><td>2016</td><td>M13</td><td>25.65</td><td>NULL</td><td>ce.data.0.AllCESSeries.csv</td></tr><tr><td>6282</td><td>CEU0500000006</td><td>2016</td><td>M13</td><td>100531</td><td>NULL</td><td>ce.data.05a.TotalPrivate.Employment.csv</td></tr><tr><td>8760</td><td>CEU0500000006</td><td>2016</td><td>M13</td><td>100531</td><td>NULL</td><td>ce.data.0.AllCESSeries.csv</td></tr><tr><td>5721</td><td>CEU0500000007</td><td>2016</td><td>M13</td><td>33.6</td><td>NULL</td><td>ce.data.05c.TotalPrivate.ProductionEmployeeHoursAndEarnings.csv</td></tr><tr><td>8761</td><td>CEU0500000007</td><td>2016</td><td>M13</td><td>33.6</td><td>NULL</td><td>ce.data.0.AllCESSeries.csv</td></tr><tr><td>5722</td><td>CEU0500000008</td><td>2016</td><td>M13</td><td>21.54</td><td>NULL</td><td>ce.data.05c.TotalPrivate.ProductionEmployeeHoursAndEarnings.csv</td></tr><tr><td>8762</td><td>CEU0500000008</td><td>2016</td><td>M13</td><td>21.54</td><td>NULL</td><td>ce.data.0.AllCESSeries.csv</td></tr><tr><td>6283</td><td>CEU0500000010</td><td>2016</td><td>M13</td><td>58747</td><td>NULL</td><td>ce.data.05a.TotalPrivate.Employment.csv</td></tr><tr><td>8763</td><td>CEU0500000010</td><td>2016</td><td>M13</td><td>58747</td><td>NULL</td><td>ce.data.0.AllCESSeries.csv</td></tr><tr><td>7956</td><td>CEU0500000011</td><td>2016</td><td>M13</td><td>881.55</td><td>NULL</td><td>ce.data.05b.TotalPrivate.AllEmployeeHoursAndEarnings.csv</td></tr><tr><td>8764</td><td>CEU0500000011</td><td>2016</td><td>M13</td><td>881.55</td><td>NULL</td><td>ce.data.0.AllCESSeries.csv</td></tr><tr><td>3808</td><td>CEU0500000012</td><td>2016</td><td>M13</td><td>367.3</td><td>NULL</td><td>ce.data.02b.AllRealEarningsAE.csv</td></tr><tr><td>7957</td><td>CEU0500000012</td><td>2016</td><td>M13</td><td>367.3</td><td>NULL</td><td>ce.data.05b.TotalPrivate.AllEmployeeHoursAndEarnings.csv</td></tr><tr><td>8765</td><td>CEU0500000012</td><td>2016</td><td>M13</td><td>367.3</td><td>NULL</td><td>ce.data.0.AllCESSeries.csv</td></tr><tr><td>3809</td><td>CEU0500000013</td><td>2016</td><td>M13</td><td>10.69</td><td>NULL</td><td>ce.data.02b.AllRealEarningsAE.csv</td></tr><tr><td>7958</td><td>CEU0500000013</td><td>2016</td><td>M13</td><td>10.69</td><td>NULL</td><td>ce.data.05b.TotalPrivate.AllEmployeeHoursAndEarnings.csv</td></tr><tr><td>8766</td><td>CEU0500000013</td><td>2016</td><td>M13</td><td>10.69</td><td>NULL</td><td>ce.data.0.AllCESSeries.csv</td></tr><tr><td>7959</td><td>CEU0500000016</td><td>2016</td><td>M13</td><td>105.3</td><td>NULL</td><td>ce.data.05b.TotalPrivate.AllEmployeeHoursAndEarnings.csv</td></tr><tr><td>8767</td><td>CEU0500000016</td><td>2016</td><td>M13</td><td>105.3</td><td>NULL</td><td>ce.data.0.AllCESSeries.csv</td></tr><tr><td>7960</td><td>CEU0500000017</td><td>2016</td><td>M13</td><td>129.1</td><td>NULL</td><td>ce.data.05b.TotalPrivate.AllEmployeeHoursAndEarnings.csv</td></tr><tr><td>8768</td><td>CEU0500000017</td><td>2016</td><td>M13</td><td>129.1</td><td>NULL</td><td>ce.data.0.AllCESSeries.csv</td></tr><tr><td>5723</td><td>CEU0500000030</td><td>2016</td><td>M13</td><td>723.69</td><td>NULL</td><td>ce.data.05c.TotalPrivate.ProductionEmployeeHoursAndEarnings.csv</td></tr><tr><td>8769</td><td>CEU0500000030</td><td>2016</td><td>M13</td><td>723.69</td><td>NULL</td><td>ce.data.0.AllCESSeries.csv</td></tr><tr><td>5724</td><td>CEU0500000031</td><td>2016</td><td>M13</td><td>309.17</td><td>NULL</td><td>ce.data.05c.TotalPrivate.ProductionEmployeeHoursAndEarnings.csv</td></tr><tr><td>8770</td><td>CEU0500000031</td><td>2016</td><td>M13</td><td>309.17</td><td>NULL</td><td>ce.data.0.AllCESSeries.csv</td></tr><tr><td>26206</td><td>CEU0500000031</td><td>2016</td><td>M13</td><td>309.17</td><td>NULL</td><td>ce.data.03c.AllRealEarningsPE.csv</td></tr><tr><td>5725</td><td>CEU0500000032</td><td>2016</td><td>M13</td><td>9.2</td><td>NULL</td><td>ce.data.05c.TotalPrivate.ProductionEmployeeHoursAndEarnings.csv</td></tr><tr><td>8771</td><td>CEU0500000032</td><td>2016</td><td>M13</td><td>9.2</td><td>NULL</td><td>ce.data.0.AllCESSeries.csv</td></tr><tr><td>26207</td><td>CEU0500000032</td><td>2016</td><td>M13</td><td>9.2</td><td>NULL</td><td>ce.data.03c.AllRealEarningsPE.csv</td></tr><tr><td>5726</td><td>CEU0500000034</td><td>2016</td><td>M13</td><td>112.5</td><td>NULL</td><td>ce.data.05c.TotalPrivate.ProductionEmployeeHoursAndEarnings.csv</td></tr><tr><td>8772</td><td>CEU0500000034</td><td>2016</td><td>M13</td><td>112.5</td><td>NULL</td><td>ce.data.0.AllCESSeries.csv</td></tr><tr><td>5727</td><td>CEU0500000035</td><td>2016</td><td>M13</td><td>162</td><td>NULL</td><td>ce.data.05c.TotalPrivate.ProductionEmployeeHoursAndEarnings.csv</td></tr><tr><td>8773</td><td>CEU0500000035</td><td>2016</td><td>M13</td><td>162</td><td>NULL</td><td>ce.data.0.AllCESSeries.csv</td></tr><tr><td>7961</td><td>CEU0500000056</td><td>2016</td><td>M13</td><td>4195743</td><td>NULL</td><td>ce.data.05b.TotalPrivate.AllEmployeeHoursAndEarnings.csv</td></tr><tr><td>8774</td><td>CEU0500000056</td><td>2016</td><td>M13</td><td>4195743</td><td>NULL</td><td>ce.data.0.AllCESSeries.csv</td></tr><tr><td>7962</td><td>CEU0500000057</td><td>2016</td><td>M13</td><td>107621623</td><td>NULL</td><td>ce.data.05b.TotalPrivate.AllEmployeeHoursAndEarnings.csv</td></tr><tr><td>8775</td><td>CEU0500000057</td><td>2016</td><td>M13</td><td>107621623</td><td>NULL</td><td>ce.data.0.AllCESSeries.csv</td></tr><tr><td>5728</td><td>CEU0500000081</td><td>2016</td><td>M13</td><td>3377192</td><td>NULL</td><td>ce.data.05c.TotalPrivate.ProductionEmployeeHoursAndEarnings.csv</td></tr><tr><td>8776</td><td>CEU0500000081</td><td>2016</td><td>M13</td><td>3377192</td><td>NULL</td><td>ce.data.0.AllCESSeries.csv</td></tr><tr><td>5729</td><td>CEU0500000082</td><td>2016</td><td>M13</td><td>72752850</td><td>NULL</td><td>ce.data.05c.TotalPrivate.ProductionEmployeeHoursAndEarnings.csv</td></tr><tr><td>8777</td><td>CEU0500000082</td><td>2016</td><td>M13</td><td>72752850</td><td>NULL</td><td>ce.data.0.AllCESSeries.csv</td></tr></table>"
                    },
                    "metadata": {}
                }
            ],
            "execution_count": 58
        },
        {
            "cell_type": "markdown",
            "source": [
                "2. <span style=\"background-color: rgb(255, 255, 255); color: rgb(102, 102, 102); font-family: Arvo, serif; font-size: 10pt; white-space: pre-wrap;\">What is the datatype for women employees?        \r\n",
                " ANS : The data type for women employees is 10.</span>"
            ],
            "metadata": {
                "azdata_cell_guid": "01b111b7-baf1-4617-88bc-cd442826c9c9"
            },
            "attachments": {}
        },
        {
            "cell_type": "code",
            "source": [
                "USE LaborstatisticsDB\r\n",
                "SELECT TOP 50* FROM datatype\r\n",
                "WHERE data_type_text = 'women employees'"
            ],
            "metadata": {
                "azdata_cell_guid": "02fa547c-0bb7-4a40-81c2-f5c05154df04",
                "language": "sql"
            },
            "outputs": [
                {
                    "output_type": "display_data",
                    "data": {
                        "text/html": "(1 row affected)"
                    },
                    "metadata": {}
                },
                {
                    "output_type": "display_data",
                    "data": {
                        "text/html": "Total execution time: 00:00:00.083"
                    },
                    "metadata": {}
                },
                {
                    "output_type": "execute_result",
                    "execution_count": 48,
                    "data": {
                        "application/vnd.dataresource+json": {
                            "schema": {
                                "fields": [
                                    {
                                        "name": "data_type_code"
                                    },
                                    {
                                        "name": "data_type_text"
                                    }
                                ]
                            },
                            "data": [
                                {
                                    "0": "10",
                                    "1": "WOMEN EMPLOYEES"
                                }
                            ]
                        },
                        "text/html": "<table><tr><th>data_type_code</th><th>data_type_text</th></tr><tr><td>10</td><td>WOMEN EMPLOYEES</td></tr></table>"
                    },
                    "metadata": {}
                }
            ],
            "execution_count": 48
        },
        {
            "cell_type": "markdown",
            "source": [
                "1. <span style=\"background-color: rgb(255, 255, 255); font-size: 10pt; white-space: pre-wrap; color: rgb(102, 102, 102); font-family: Arvo, serif;\">What is the series id for&nbsp; women employees in the commercial banking industry in the financial activities supersector?\r\n",
                " ANS: SeriesID : </span> <span style=\"font-size: 13.3333px; white-space: pre-wrap;\">CES5552211010</span> and CEU5552211010"
            ],
            "metadata": {
                "azdata_cell_guid": "325f85cc-9545-47b3-b975-3aab6278e4ea"
            },
            "attachments": {}
        },
        {
            "cell_type": "code",
            "source": [
                "SELECT supersector_code, supersector_name \r\n",
                "FROM supersector\r\n",
                "WHERE supersector_name LIKE '%financial%'"
            ],
            "metadata": {
                "azdata_cell_guid": "1315af1f-45f8-457d-8bbe-8e9f46303fca",
                "language": "sql"
            },
            "outputs": [
                {
                    "output_type": "display_data",
                    "data": {
                        "text/html": "(1 row affected)"
                    },
                    "metadata": {}
                },
                {
                    "output_type": "display_data",
                    "data": {
                        "text/html": "Total execution time: 00:00:00.074"
                    },
                    "metadata": {}
                },
                {
                    "output_type": "execute_result",
                    "execution_count": 50,
                    "data": {
                        "application/vnd.dataresource+json": {
                            "schema": {
                                "fields": [
                                    {
                                        "name": "supersector_code"
                                    },
                                    {
                                        "name": "supersector_name"
                                    }
                                ]
                            },
                            "data": [
                                {
                                    "0": "55",
                                    "1": "Financial activities"
                                }
                            ]
                        },
                        "text/html": "<table><tr><th>supersector_code</th><th>supersector_name</th></tr><tr><td>55</td><td>Financial activities</td></tr></table>"
                    },
                    "metadata": {}
                }
            ],
            "execution_count": 50
        },
        {
            "cell_type": "code",
            "source": [
                "SELECT industry_code, industry_name\r\n",
                "FROM industry\r\n",
                "WHERE industry_name LIKE '%commercial banking%'"
            ],
            "metadata": {
                "language": "sql",
                "azdata_cell_guid": "8b0f4dbc-91d3-46ca-8a52-ce1a650e5326"
            },
            "outputs": [
                {
                    "output_type": "display_data",
                    "data": {
                        "text/html": "(1 row affected)"
                    },
                    "metadata": {}
                },
                {
                    "output_type": "display_data",
                    "data": {
                        "text/html": "Total execution time: 00:00:00.076"
                    },
                    "metadata": {}
                },
                {
                    "output_type": "execute_result",
                    "execution_count": 53,
                    "data": {
                        "application/vnd.dataresource+json": {
                            "schema": {
                                "fields": [
                                    {
                                        "name": "industry_code"
                                    },
                                    {
                                        "name": "industry_name"
                                    }
                                ]
                            },
                            "data": [
                                {
                                    "0": "55522110",
                                    "1": "Commercial banking"
                                }
                            ]
                        },
                        "text/html": "<table><tr><th>industry_code</th><th>industry_name</th></tr><tr><td>55522110</td><td>Commercial banking</td></tr></table>"
                    },
                    "metadata": {}
                }
            ],
            "execution_count": 53
        },
        {
            "cell_type": "code",
            "source": [
                "SELECT series_id FROM series \r\n",
                "WHERE data_type_code LIKE '10'\r\n",
                "AND supersector_code LIKE '55'\r\n",
                "AND industry_code LIKE '55522110'"
            ],
            "metadata": {
                "azdata_cell_guid": "1606ccd7-9ea2-4a3d-ada6-67ecf9b66636",
                "language": "sql"
            },
            "outputs": [
                {
                    "output_type": "display_data",
                    "data": {
                        "text/html": "(2 rows affected)"
                    },
                    "metadata": {}
                },
                {
                    "output_type": "display_data",
                    "data": {
                        "text/html": "Total execution time: 00:00:00.078"
                    },
                    "metadata": {}
                },
                {
                    "output_type": "execute_result",
                    "execution_count": 60,
                    "data": {
                        "application/vnd.dataresource+json": {
                            "schema": {
                                "fields": [
                                    {
                                        "name": "series_id"
                                    }
                                ]
                            },
                            "data": [
                                {
                                    "0": "CES5552211010"
                                },
                                {
                                    "0": "CEU5552211010"
                                }
                            ]
                        },
                        "text/html": "<table><tr><th>series_id</th></tr><tr><td>CES5552211010</td></tr><tr><td>CEU5552211010</td></tr></table>"
                    },
                    "metadata": {}
                }
            ],
            "execution_count": 60
        },
        {
            "cell_type": "markdown",
            "source": [
                "## <span style=\"font-size: 12pt; font-family: Montserrat, sans-serif; color: rgb(53, 74, 95); background-color: rgb(255, 255, 255); font-weight: 700; font-variant-numeric: normal; font-variant-east-asian: normal; vertical-align: baseline; white-space: pre-wrap;\">Join in on the Fun</span>\n",
                "\n",
                "<span style=\"font-size: 10pt; font-family: Arvo, serif; color: rgb(102, 102, 102); background-color: rgb(255, 255, 255); font-variant-numeric: normal; font-variant-east-asian: normal; vertical-align: baseline; white-space: pre-wrap;\">Time to start joining! You can choose the type of join you use, just make sure to make a&nbsp; note!</span>\n",
                "\n",
                "1. <span style=\"background-color: rgb(255, 255, 255); font-size: 10pt; white-space: pre-wrap; color: rgb(102, 102, 102); font-family: Arvo, serif;\">Join&nbsp; annual_2016 with series on series_id. We only want the data in the annual_2016 table to be included in the result.</span>"
            ],
            "metadata": {
                "azdata_cell_guid": "ec1dfc63-ad41-4349-8c26-1d326ace8c6c"
            },
            "attachments": {}
        },
        {
            "cell_type": "code",
            "source": [
                "USE LaborStatisticsDB\r\n",
                "SELECT TOP 10 a16.id, a16.series_id, a16.year, a16.period, a16.value, a16.footnote_codes, a16.original_file FROM annual_2016 AS a16\r\n",
                "LEFT JOIN series AS s\r\n",
                "ON a16.series_id = s.series_id "
            ],
            "metadata": {
                "azdata_cell_guid": "cf90f0b4-c482-4fbb-ac17-d2244881caab",
                "language": "sql"
            },
            "outputs": [
                {
                    "output_type": "display_data",
                    "data": {
                        "text/html": "(10 rows affected)"
                    },
                    "metadata": {}
                },
                {
                    "output_type": "display_data",
                    "data": {
                        "text/html": "Total execution time: 00:00:00.223"
                    },
                    "metadata": {}
                },
                {
                    "output_type": "execute_result",
                    "execution_count": 61,
                    "data": {
                        "application/vnd.dataresource+json": {
                            "schema": {
                                "fields": [
                                    {
                                        "name": "id"
                                    },
                                    {
                                        "name": "series_id"
                                    },
                                    {
                                        "name": "year"
                                    },
                                    {
                                        "name": "period"
                                    },
                                    {
                                        "name": "value"
                                    },
                                    {
                                        "name": "footnote_codes"
                                    },
                                    {
                                        "name": "original_file"
                                    }
                                ]
                            },
                            "data": [
                                {
                                    "0": "0",
                                    "1": "CEU5500000007",
                                    "2": "2016",
                                    "3": "M13",
                                    "4": "36.9",
                                    "5": "NULL",
                                    "6": "ce.data.55c.FinancialActivities.ProductionEmployeeHoursAndEarnings.csv"
                                },
                                {
                                    "0": "1",
                                    "1": "CEU5500000008",
                                    "2": "2016",
                                    "3": "M13",
                                    "4": "26.11",
                                    "5": "NULL",
                                    "6": "ce.data.55c.FinancialActivities.ProductionEmployeeHoursAndEarnings.csv"
                                },
                                {
                                    "0": "2",
                                    "1": "CEU5500000030",
                                    "2": "2016",
                                    "3": "M13",
                                    "4": "962.73",
                                    "5": "NULL",
                                    "6": "ce.data.55c.FinancialActivities.ProductionEmployeeHoursAndEarnings.csv"
                                },
                                {
                                    "0": "3",
                                    "1": "CEU5500000031",
                                    "2": "2016",
                                    "3": "M13",
                                    "4": "411.29",
                                    "5": "NULL",
                                    "6": "ce.data.55c.FinancialActivities.ProductionEmployeeHoursAndEarnings.csv"
                                },
                                {
                                    "0": "4",
                                    "1": "CEU5500000032",
                                    "2": "2016",
                                    "3": "M13",
                                    "4": "11.15",
                                    "5": "NULL",
                                    "6": "ce.data.55c.FinancialActivities.ProductionEmployeeHoursAndEarnings.csv"
                                },
                                {
                                    "0": "5",
                                    "1": "CEU5500000034",
                                    "2": "2016",
                                    "3": "M13",
                                    "4": "111.6",
                                    "5": "NULL",
                                    "6": "ce.data.55c.FinancialActivities.ProductionEmployeeHoursAndEarnings.csv"
                                },
                                {
                                    "0": "6",
                                    "1": "CEU5500000035",
                                    "2": "2016",
                                    "3": "M13",
                                    "4": "179.2",
                                    "5": "NULL",
                                    "6": "ce.data.55c.FinancialActivities.ProductionEmployeeHoursAndEarnings.csv"
                                },
                                {
                                    "0": "7",
                                    "1": "CEU5500000081",
                                    "2": "2016",
                                    "3": "M13",
                                    "4": "236997",
                                    "5": "NULL",
                                    "6": "ce.data.55c.FinancialActivities.ProductionEmployeeHoursAndEarnings.csv"
                                },
                                {
                                    "0": "8",
                                    "1": "CEU5500000082",
                                    "2": "2016",
                                    "3": "M13",
                                    "4": "6189003",
                                    "5": "NULL",
                                    "6": "ce.data.55c.FinancialActivities.ProductionEmployeeHoursAndEarnings.csv"
                                },
                                {
                                    "0": "9",
                                    "1": "CEU5552200007",
                                    "2": "2016",
                                    "3": "M13",
                                    "4": "37.3",
                                    "5": "NULL",
                                    "6": "ce.data.55c.FinancialActivities.ProductionEmployeeHoursAndEarnings.csv"
                                }
                            ]
                        },
                        "text/html": "<table><tr><th>id</th><th>series_id</th><th>year</th><th>period</th><th>value</th><th>footnote_codes</th><th>original_file</th></tr><tr><td>0</td><td>CEU5500000007</td><td>2016</td><td>M13</td><td>36.9</td><td>NULL</td><td>ce.data.55c.FinancialActivities.ProductionEmployeeHoursAndEarnings.csv</td></tr><tr><td>1</td><td>CEU5500000008</td><td>2016</td><td>M13</td><td>26.11</td><td>NULL</td><td>ce.data.55c.FinancialActivities.ProductionEmployeeHoursAndEarnings.csv</td></tr><tr><td>2</td><td>CEU5500000030</td><td>2016</td><td>M13</td><td>962.73</td><td>NULL</td><td>ce.data.55c.FinancialActivities.ProductionEmployeeHoursAndEarnings.csv</td></tr><tr><td>3</td><td>CEU5500000031</td><td>2016</td><td>M13</td><td>411.29</td><td>NULL</td><td>ce.data.55c.FinancialActivities.ProductionEmployeeHoursAndEarnings.csv</td></tr><tr><td>4</td><td>CEU5500000032</td><td>2016</td><td>M13</td><td>11.15</td><td>NULL</td><td>ce.data.55c.FinancialActivities.ProductionEmployeeHoursAndEarnings.csv</td></tr><tr><td>5</td><td>CEU5500000034</td><td>2016</td><td>M13</td><td>111.6</td><td>NULL</td><td>ce.data.55c.FinancialActivities.ProductionEmployeeHoursAndEarnings.csv</td></tr><tr><td>6</td><td>CEU5500000035</td><td>2016</td><td>M13</td><td>179.2</td><td>NULL</td><td>ce.data.55c.FinancialActivities.ProductionEmployeeHoursAndEarnings.csv</td></tr><tr><td>7</td><td>CEU5500000081</td><td>2016</td><td>M13</td><td>236997</td><td>NULL</td><td>ce.data.55c.FinancialActivities.ProductionEmployeeHoursAndEarnings.csv</td></tr><tr><td>8</td><td>CEU5500000082</td><td>2016</td><td>M13</td><td>6189003</td><td>NULL</td><td>ce.data.55c.FinancialActivities.ProductionEmployeeHoursAndEarnings.csv</td></tr><tr><td>9</td><td>CEU5552200007</td><td>2016</td><td>M13</td><td>37.3</td><td>NULL</td><td>ce.data.55c.FinancialActivities.ProductionEmployeeHoursAndEarnings.csv</td></tr></table>"
                    },
                    "metadata": {}
                }
            ],
            "execution_count": 61
        },
        {
            "cell_type": "markdown",
            "source": [
                "2. <span style=\"background-color: rgb(255, 255, 255); font-size: 10pt; white-space: pre-wrap; color: rgb(102, 102, 102); font-family: Arvo, serif;\">Join series and datatype on data_type_code</span>"
            ],
            "metadata": {
                "azdata_cell_guid": "710b59ae-224b-4f9d-b1a4-4a6b89048bbb"
            },
            "attachments": {}
        },
        {
            "cell_type": "code",
            "source": [
                "SELECT TOP 10 * FROM series \r\n",
                "LEFT JOIN datatype \r\n",
                "ON series.data_type_code = datatype.data_type_code"
            ],
            "metadata": {
                "azdata_cell_guid": "fca61371-c9b5-4823-a4b4-34c1279ece3e",
                "language": "sql"
            },
            "outputs": [
                {
                    "output_type": "display_data",
                    "data": {
                        "text/html": "(10 rows affected)"
                    },
                    "metadata": {}
                },
                {
                    "output_type": "display_data",
                    "data": {
                        "text/html": "Total execution time: 00:00:00.081"
                    },
                    "metadata": {}
                },
                {
                    "output_type": "execute_result",
                    "execution_count": 19,
                    "data": {
                        "application/vnd.dataresource+json": {
                            "schema": {
                                "fields": [
                                    {
                                        "name": "series_id"
                                    },
                                    {
                                        "name": "supersector_code"
                                    },
                                    {
                                        "name": "industry_code"
                                    },
                                    {
                                        "name": "data_type_code"
                                    },
                                    {
                                        "name": "seasonal"
                                    },
                                    {
                                        "name": "series_title"
                                    },
                                    {
                                        "name": "data_type_code"
                                    },
                                    {
                                        "name": "data_type_text"
                                    }
                                ]
                            },
                            "data": [
                                {
                                    "0": "CES0000000001",
                                    "1": "0",
                                    "2": "00000000",
                                    "3": "1",
                                    "4": "S",
                                    "5": "All employees",
                                    "6": "1",
                                    "7": "ALL EMPLOYEES"
                                },
                                {
                                    "0": "CES0000000010",
                                    "1": "0",
                                    "2": "00000000",
                                    "3": "10",
                                    "4": "S",
                                    "5": "Women employees",
                                    "6": "10",
                                    "7": "WOMEN EMPLOYEES"
                                },
                                {
                                    "0": "CES0000000025",
                                    "1": "0",
                                    "2": "00000000",
                                    "3": "25",
                                    "4": "S",
                                    "5": "All employees",
                                    "6": "25",
                                    "7": "ALL EMPLOYEES"
                                },
                                {
                                    "0": "CES0000000026",
                                    "1": "0",
                                    "2": "00000000",
                                    "3": "26",
                                    "4": "S",
                                    "5": "All employees",
                                    "6": "26",
                                    "7": "ALL EMPLOYEES"
                                },
                                {
                                    "0": "CES0500000001",
                                    "1": "5",
                                    "2": "05000000",
                                    "3": "1",
                                    "4": "S",
                                    "5": "All employees",
                                    "6": "1",
                                    "7": "ALL EMPLOYEES"
                                },
                                {
                                    "0": "CES0500000002",
                                    "1": "5",
                                    "2": "05000000",
                                    "3": "2",
                                    "4": "S",
                                    "5": "Average weekly hours of all employees",
                                    "6": "2",
                                    "7": "AVERAGE WEEKLY HOURS OF ALL EMPLOYEES"
                                },
                                {
                                    "0": "CES0500000003",
                                    "1": "5",
                                    "2": "05000000",
                                    "3": "3",
                                    "4": "S",
                                    "5": "Average hourly earnings of all employees",
                                    "6": "3",
                                    "7": "AVERAGE HOURLY EARNINGS OF ALL EMPLOYEES"
                                },
                                {
                                    "0": "CES0500000006",
                                    "1": "5",
                                    "2": "05000000",
                                    "3": "6",
                                    "4": "S",
                                    "5": "Production and nonsupervisory employees",
                                    "6": "6",
                                    "7": "PRODUCTION AND NONSUPERVISORY EMPLOYEES"
                                },
                                {
                                    "0": "CES0500000007",
                                    "1": "5",
                                    "2": "05000000",
                                    "3": "7",
                                    "4": "S",
                                    "5": "Average weekly hours of production and nonsupervisory employees",
                                    "6": "7",
                                    "7": "AVERAGE WEEKLY HOURS OF PRODUCTION AND NONSUPERVISORY EMPLOYEES"
                                },
                                {
                                    "0": "CES0500000008",
                                    "1": "5",
                                    "2": "05000000",
                                    "3": "8",
                                    "4": "S",
                                    "5": "Average hourly earnings of production and nonsupervisory employees",
                                    "6": "8",
                                    "7": "AVERAGE HOURLY EARNINGS OF PRODUCTION AND NONSUPERVISORY EMPLOYEES"
                                }
                            ]
                        },
                        "text/html": "<table><tr><th>series_id</th><th>supersector_code</th><th>industry_code</th><th>data_type_code</th><th>seasonal</th><th>series_title</th><th>data_type_code</th><th>data_type_text</th></tr><tr><td>CES0000000001</td><td>0</td><td>00000000</td><td>1</td><td>S</td><td>All employees</td><td>1</td><td>ALL EMPLOYEES</td></tr><tr><td>CES0000000010</td><td>0</td><td>00000000</td><td>10</td><td>S</td><td>Women employees</td><td>10</td><td>WOMEN EMPLOYEES</td></tr><tr><td>CES0000000025</td><td>0</td><td>00000000</td><td>25</td><td>S</td><td>All employees</td><td>25</td><td>ALL EMPLOYEES</td></tr><tr><td>CES0000000026</td><td>0</td><td>00000000</td><td>26</td><td>S</td><td>All employees</td><td>26</td><td>ALL EMPLOYEES</td></tr><tr><td>CES0500000001</td><td>5</td><td>05000000</td><td>1</td><td>S</td><td>All employees</td><td>1</td><td>ALL EMPLOYEES</td></tr><tr><td>CES0500000002</td><td>5</td><td>05000000</td><td>2</td><td>S</td><td>Average weekly hours of all employees</td><td>2</td><td>AVERAGE WEEKLY HOURS OF ALL EMPLOYEES</td></tr><tr><td>CES0500000003</td><td>5</td><td>05000000</td><td>3</td><td>S</td><td>Average hourly earnings of all employees</td><td>3</td><td>AVERAGE HOURLY EARNINGS OF ALL EMPLOYEES</td></tr><tr><td>CES0500000006</td><td>5</td><td>05000000</td><td>6</td><td>S</td><td>Production and nonsupervisory employees</td><td>6</td><td>PRODUCTION AND NONSUPERVISORY EMPLOYEES</td></tr><tr><td>CES0500000007</td><td>5</td><td>05000000</td><td>7</td><td>S</td><td>Average weekly hours of production and nonsupervisory employees</td><td>7</td><td>AVERAGE WEEKLY HOURS OF PRODUCTION AND NONSUPERVISORY EMPLOYEES</td></tr><tr><td>CES0500000008</td><td>5</td><td>05000000</td><td>8</td><td>S</td><td>Average hourly earnings of production and nonsupervisory employees</td><td>8</td><td>AVERAGE HOURLY EARNINGS OF PRODUCTION AND NONSUPERVISORY EMPLOYEES</td></tr></table>"
                    },
                    "metadata": {}
                }
            ],
            "execution_count": 19
        },
        {
            "cell_type": "markdown",
            "source": [
                "3. <span style=\"background-color: rgb(255, 255, 255); font-size: 10pt; white-space: pre-wrap; color: rgb(102, 102, 102); font-family: Arvo, serif;\">Join series and industry on industry_code</span>"
            ],
            "metadata": {
                "azdata_cell_guid": "78ac8ba4-2a6a-426f-af30-6b56d9d09054"
            },
            "attachments": {}
        },
        {
            "cell_type": "code",
            "source": [
                "USE LaborStatisticsDB\r\n",
                " SELECT TOP 10 * FROM series\r\n",
                "LEFT JOIN industry\r\n",
                "ON series.industry_code = industry.industry_code"
            ],
            "metadata": {
                "azdata_cell_guid": "ac022766-e280-4d95-8362-1f2b18773662",
                "language": "sql"
            },
            "outputs": [
                {
                    "output_type": "display_data",
                    "data": {
                        "text/html": "(10 rows affected)"
                    },
                    "metadata": {}
                },
                {
                    "output_type": "display_data",
                    "data": {
                        "text/html": "Total execution time: 00:00:00.089"
                    },
                    "metadata": {}
                },
                {
                    "output_type": "execute_result",
                    "execution_count": 20,
                    "data": {
                        "application/vnd.dataresource+json": {
                            "schema": {
                                "fields": [
                                    {
                                        "name": "series_id"
                                    },
                                    {
                                        "name": "supersector_code"
                                    },
                                    {
                                        "name": "industry_code"
                                    },
                                    {
                                        "name": "data_type_code"
                                    },
                                    {
                                        "name": "seasonal"
                                    },
                                    {
                                        "name": "series_title"
                                    },
                                    {
                                        "name": "id"
                                    },
                                    {
                                        "name": "industry_code"
                                    },
                                    {
                                        "name": "naics_code"
                                    },
                                    {
                                        "name": "publishing_status"
                                    },
                                    {
                                        "name": "industry_name"
                                    },
                                    {
                                        "name": "display_level"
                                    },
                                    {
                                        "name": "selectable"
                                    },
                                    {
                                        "name": "sort_sequence"
                                    }
                                ]
                            },
                            "data": [
                                {
                                    "0": "CES0000000001",
                                    "1": "0",
                                    "2": "00000000",
                                    "3": "1",
                                    "4": "S",
                                    "5": "All employees",
                                    "6": "0",
                                    "7": "0",
                                    "8": "-",
                                    "9": "B",
                                    "10": "Total nonfarm",
                                    "11": "0",
                                    "12": "T",
                                    "13": "1"
                                },
                                {
                                    "0": "CES0000000010",
                                    "1": "0",
                                    "2": "00000000",
                                    "3": "10",
                                    "4": "S",
                                    "5": "Women employees",
                                    "6": "0",
                                    "7": "0",
                                    "8": "-",
                                    "9": "B",
                                    "10": "Total nonfarm",
                                    "11": "0",
                                    "12": "T",
                                    "13": "1"
                                },
                                {
                                    "0": "CES0000000025",
                                    "1": "0",
                                    "2": "00000000",
                                    "3": "25",
                                    "4": "S",
                                    "5": "All employees",
                                    "6": "0",
                                    "7": "0",
                                    "8": "-",
                                    "9": "B",
                                    "10": "Total nonfarm",
                                    "11": "0",
                                    "12": "T",
                                    "13": "1"
                                },
                                {
                                    "0": "CES0000000026",
                                    "1": "0",
                                    "2": "00000000",
                                    "3": "26",
                                    "4": "S",
                                    "5": "All employees",
                                    "6": "0",
                                    "7": "0",
                                    "8": "-",
                                    "9": "B",
                                    "10": "Total nonfarm",
                                    "11": "0",
                                    "12": "T",
                                    "13": "1"
                                },
                                {
                                    "0": "CES0500000001",
                                    "1": "5",
                                    "2": "05000000",
                                    "3": "1",
                                    "4": "S",
                                    "5": "All employees",
                                    "6": "1",
                                    "7": "5000000",
                                    "8": "-",
                                    "9": "A",
                                    "10": "Total private",
                                    "11": "1",
                                    "12": "T",
                                    "13": "2"
                                },
                                {
                                    "0": "CES0500000002",
                                    "1": "5",
                                    "2": "05000000",
                                    "3": "2",
                                    "4": "S",
                                    "5": "Average weekly hours of all employees",
                                    "6": "1",
                                    "7": "5000000",
                                    "8": "-",
                                    "9": "A",
                                    "10": "Total private",
                                    "11": "1",
                                    "12": "T",
                                    "13": "2"
                                },
                                {
                                    "0": "CES0500000003",
                                    "1": "5",
                                    "2": "05000000",
                                    "3": "3",
                                    "4": "S",
                                    "5": "Average hourly earnings of all employees",
                                    "6": "1",
                                    "7": "5000000",
                                    "8": "-",
                                    "9": "A",
                                    "10": "Total private",
                                    "11": "1",
                                    "12": "T",
                                    "13": "2"
                                },
                                {
                                    "0": "CES0500000006",
                                    "1": "5",
                                    "2": "05000000",
                                    "3": "6",
                                    "4": "S",
                                    "5": "Production and nonsupervisory employees",
                                    "6": "1",
                                    "7": "5000000",
                                    "8": "-",
                                    "9": "A",
                                    "10": "Total private",
                                    "11": "1",
                                    "12": "T",
                                    "13": "2"
                                },
                                {
                                    "0": "CES0500000007",
                                    "1": "5",
                                    "2": "05000000",
                                    "3": "7",
                                    "4": "S",
                                    "5": "Average weekly hours of production and nonsupervisory employees",
                                    "6": "1",
                                    "7": "5000000",
                                    "8": "-",
                                    "9": "A",
                                    "10": "Total private",
                                    "11": "1",
                                    "12": "T",
                                    "13": "2"
                                },
                                {
                                    "0": "CES0500000008",
                                    "1": "5",
                                    "2": "05000000",
                                    "3": "8",
                                    "4": "S",
                                    "5": "Average hourly earnings of production and nonsupervisory employees",
                                    "6": "1",
                                    "7": "5000000",
                                    "8": "-",
                                    "9": "A",
                                    "10": "Total private",
                                    "11": "1",
                                    "12": "T",
                                    "13": "2"
                                }
                            ]
                        },
                        "text/html": "<table><tr><th>series_id</th><th>supersector_code</th><th>industry_code</th><th>data_type_code</th><th>seasonal</th><th>series_title</th><th>id</th><th>industry_code</th><th>naics_code</th><th>publishing_status</th><th>industry_name</th><th>display_level</th><th>selectable</th><th>sort_sequence</th></tr><tr><td>CES0000000001</td><td>0</td><td>00000000</td><td>1</td><td>S</td><td>All employees</td><td>0</td><td>0</td><td>-</td><td>B</td><td>Total nonfarm</td><td>0</td><td>T</td><td>1</td></tr><tr><td>CES0000000010</td><td>0</td><td>00000000</td><td>10</td><td>S</td><td>Women employees</td><td>0</td><td>0</td><td>-</td><td>B</td><td>Total nonfarm</td><td>0</td><td>T</td><td>1</td></tr><tr><td>CES0000000025</td><td>0</td><td>00000000</td><td>25</td><td>S</td><td>All employees</td><td>0</td><td>0</td><td>-</td><td>B</td><td>Total nonfarm</td><td>0</td><td>T</td><td>1</td></tr><tr><td>CES0000000026</td><td>0</td><td>00000000</td><td>26</td><td>S</td><td>All employees</td><td>0</td><td>0</td><td>-</td><td>B</td><td>Total nonfarm</td><td>0</td><td>T</td><td>1</td></tr><tr><td>CES0500000001</td><td>5</td><td>05000000</td><td>1</td><td>S</td><td>All employees</td><td>1</td><td>5000000</td><td>-</td><td>A</td><td>Total private</td><td>1</td><td>T</td><td>2</td></tr><tr><td>CES0500000002</td><td>5</td><td>05000000</td><td>2</td><td>S</td><td>Average weekly hours of all employees</td><td>1</td><td>5000000</td><td>-</td><td>A</td><td>Total private</td><td>1</td><td>T</td><td>2</td></tr><tr><td>CES0500000003</td><td>5</td><td>05000000</td><td>3</td><td>S</td><td>Average hourly earnings of all employees</td><td>1</td><td>5000000</td><td>-</td><td>A</td><td>Total private</td><td>1</td><td>T</td><td>2</td></tr><tr><td>CES0500000006</td><td>5</td><td>05000000</td><td>6</td><td>S</td><td>Production and nonsupervisory employees</td><td>1</td><td>5000000</td><td>-</td><td>A</td><td>Total private</td><td>1</td><td>T</td><td>2</td></tr><tr><td>CES0500000007</td><td>5</td><td>05000000</td><td>7</td><td>S</td><td>Average weekly hours of production and nonsupervisory employees</td><td>1</td><td>5000000</td><td>-</td><td>A</td><td>Total private</td><td>1</td><td>T</td><td>2</td></tr><tr><td>CES0500000008</td><td>5</td><td>05000000</td><td>8</td><td>S</td><td>Average hourly earnings of production and nonsupervisory employees</td><td>1</td><td>5000000</td><td>-</td><td>A</td><td>Total private</td><td>1</td><td>T</td><td>2</td></tr></table>"
                    },
                    "metadata": {}
                }
            ],
            "execution_count": 20
        },
        {
            "cell_type": "markdown",
            "source": [
                "## <span style=\"font-size: 12pt; font-family: Montserrat, sans-serif; color: rgb(53, 74, 95); background-color: rgb(255, 255, 255); font-weight: 700; font-variant-numeric: normal; font-variant-east-asian: normal; vertical-align: baseline; white-space: pre-wrap;\">Aggregate Your Friends and Code some SQL</span>\n",
                "\n",
                "<span style=\"font-size: 10pt; font-family: Arvo, serif; color: rgb(102, 102, 102); background-color: rgb(255, 255, 255); font-variant-numeric: normal; font-variant-east-asian: normal; vertical-align: baseline; white-space: pre-wrap;\">Put together the following:</span>\n",
                "\n",
                "1. <span style=\"background-color: rgb(255, 255, 255); font-size: 10pt; white-space: pre-wrap; color: rgb(102, 102, 102); font-family: Arvo, serif;\">How many employees were reported in 2016 in all industries? Round to the nearest whole number.&nbsp; No chopping people into little bits, please. ANS : 2340612 employees in all industries reported in 2016.</span>"
            ],
            "metadata": {
                "azdata_cell_guid": "f4290cc1-f824-4586-8850-59d926bf4460"
            },
            "attachments": {}
        },
        {
            "cell_type": "code",
            "source": [
                "USE LaborStatisticsDB \r\n",
                "-- select series_id,series_title from series\r\n",
                "SELECT sum(value) AS 'Total Employees' FROM annual_2016\r\n",
                "WHERE series_id LIKE '%01' --All employees\r\n",
                "--seriesID and data_type_code are interlinked "
            ],
            "metadata": {
                "azdata_cell_guid": "25099068-a629-4eb5-afca-ed3748c40605",
                "language": "sql"
            },
            "outputs": [
                {
                    "output_type": "display_data",
                    "data": {
                        "text/html": "(1 row affected)"
                    },
                    "metadata": {}
                },
                {
                    "output_type": "display_data",
                    "data": {
                        "text/html": "Total execution time: 00:00:00.126"
                    },
                    "metadata": {}
                },
                {
                    "output_type": "execute_result",
                    "metadata": {},
                    "execution_count": 17,
                    "data": {
                        "application/vnd.dataresource+json": {
                            "schema": {
                                "fields": [
                                    {
                                        "name": "Total Employees"
                                    }
                                ]
                            },
                            "data": [
                                {
                                    "0": "2340612.2000000016"
                                }
                            ]
                        },
                        "text/html": [
                            "<table>",
                            "<tr><th>Total Employees</th></tr>",
                            "<tr><td>2340612.2000000016</td></tr>",
                            "</table>"
                        ]
                    }
                }
            ],
            "execution_count": 17
        },
        {
            "cell_type": "markdown",
            "source": [
                "2. <span style=\"background-color: rgb(255, 255, 255); font-size: 10pt; white-space: pre-wrap; color: rgb(102, 102, 102); font-family: Arvo, serif;\">How many women employees were reported in 2016 in all industries? Round to the nearest whole number.&nbsp; ANS : The total women employees in all industries in the year 2016 are 1125490.</span>"
            ],
            "metadata": {
                "azdata_cell_guid": "6358fab4-b933-4646-bef1-4be66dcd4317"
            },
            "attachments": {}
        },
        {
            "cell_type": "code",
            "source": [
                "-- select series_id,series_title from series\r\n",
                "SELECT SUM(value) AS 'Women employees' FROM LaborStatisticsDB.dbo.annual_2016\r\n",
                "WHERE series_id LIKE '%10' --Women employees\r\n",
                "     "
            ],
            "metadata": {
                "azdata_cell_guid": "7bb0bfb7-b9e3-4672-b354-7ca705bb0c3b",
                "language": "sql"
            },
            "outputs": [
                {
                    "output_type": "display_data",
                    "data": {
                        "text/html": "(1 row affected)"
                    },
                    "metadata": {}
                },
                {
                    "output_type": "display_data",
                    "data": {
                        "text/html": "Total execution time: 00:00:00.303"
                    },
                    "metadata": {}
                },
                {
                    "output_type": "execute_result",
                    "metadata": {},
                    "execution_count": 21,
                    "data": {
                        "application/vnd.dataresource+json": {
                            "schema": {
                                "fields": [
                                    {
                                        "name": "Women employees"
                                    }
                                ]
                            },
                            "data": [
                                {
                                    "0": "1125489.6000000008"
                                }
                            ]
                        },
                        "text/html": [
                            "<table>",
                            "<tr><th>Women employees</th></tr>",
                            "<tr><td>1125489.6000000008</td></tr>",
                            "</table>"
                        ]
                    }
                }
            ],
            "execution_count": 21
        },
        {
            "cell_type": "markdown",
            "source": [
                "3. <span style=\"background-color: rgb(255, 255, 255); font-size: 10pt; white-space: pre-wrap; color: rgb(102, 102, 102); font-family: Arvo, serif;\">How many production/nonsupervisory employees were reported in 2016? Round to the nearest whole number.&nbsp; ANS : Total employees in the production and nonsupervisory industries are 1263650.</span>"
            ],
            "metadata": {
                "azdata_cell_guid": "246ea683-2075-4337-878d-fbfdd49b2dd7"
            },
            "attachments": {}
        },
        {
            "cell_type": "code",
            "source": [
                "-- select series_id,series_title from series\r\n",
                "SELECT sum(value) AS 'Total employees' FROM LaborStatisticsDB.dbo.annual_2016\r\n",
                "WHERE series_id LIKE '%06' --Production and nonsupervisory employees"
            ],
            "metadata": {
                "azdata_cell_guid": "110f2591-069b-4bbe-87c7-2bcf76c3d36f",
                "language": "sql"
            },
            "outputs": [
                {
                    "output_type": "display_data",
                    "data": {
                        "text/html": "(1 row affected)"
                    },
                    "metadata": {}
                },
                {
                    "output_type": "display_data",
                    "data": {
                        "text/html": "Total execution time: 00:00:00.115"
                    },
                    "metadata": {}
                },
                {
                    "output_type": "execute_result",
                    "metadata": {},
                    "execution_count": 20,
                    "data": {
                        "application/vnd.dataresource+json": {
                            "schema": {
                                "fields": [
                                    {
                                        "name": "Total employees"
                                    }
                                ]
                            },
                            "data": [
                                {
                                    "0": "1263649.6000000008"
                                }
                            ]
                        },
                        "text/html": [
                            "<table>",
                            "<tr><th>Total employees</th></tr>",
                            "<tr><td>1263649.6000000008</td></tr>",
                            "</table>"
                        ]
                    }
                }
            ],
            "execution_count": 20
        },
        {
            "cell_type": "markdown",
            "source": [
                "4. <span style=\"background-color: rgb(255, 255, 255); font-size: 10pt; white-space: pre-wrap; color: rgb(102, 102, 102); font-family: Arvo, serif;\">In January 2017, what is the average weekly hours worked by production and nonsupervisory employees across all industries?ANS : The average weekly hours worked by production and nonsupervisory employess across all industries is 36 hours/week.</span>"
            ],
            "metadata": {
                "azdata_cell_guid": "9caa7f57-e39d-4b7a-b705-25f8fe29d60b"
            },
            "attachments": {}
        },
        {
            "cell_type": "code",
            "source": [
                "-- select series_id,series_title from series\r\n",
                "SELECT AVG(value) AS 'Average weeekly hours' FROM LaborStatisticsDB.dbo.january_2017 \r\n",
                "WHERE series_id LIKE '%07' --Average weekly hours of production and nonsupervisory employees"
            ],
            "metadata": {
                "azdata_cell_guid": "9f07fa8a-4217-439a-a9cd-831240d4bc9e",
                "language": "sql"
            },
            "outputs": [
                {
                    "output_type": "display_data",
                    "data": {
                        "text/html": "(1 row affected)"
                    },
                    "metadata": {}
                },
                {
                    "output_type": "display_data",
                    "data": {
                        "text/html": "Total execution time: 00:00:00.517"
                    },
                    "metadata": {}
                },
                {
                    "output_type": "execute_result",
                    "metadata": {},
                    "execution_count": 22,
                    "data": {
                        "application/vnd.dataresource+json": {
                            "schema": {
                                "fields": [
                                    {
                                        "name": "Average weeekly hours"
                                    }
                                ]
                            },
                            "data": [
                                {
                                    "0": "36.05862068965521"
                                }
                            ]
                        },
                        "text/html": [
                            "<table>",
                            "<tr><th>Average weeekly hours</th></tr>",
                            "<tr><td>36.05862068965521</td></tr>",
                            "</table>"
                        ]
                    }
                }
            ],
            "execution_count": 22
        },
        {
            "cell_type": "markdown",
            "source": [
                "5. <span style=\"background-color: rgb(255, 255, 255); font-size: 10pt; white-space: pre-wrap; color: rgb(102, 102, 102); font-family: Arvo, serif;\">What is the total weekly payroll for production and nonsupervisory employees across all industries in January 2017? Round to the nearest penny, please.</span>"
            ],
            "metadata": {
                "azdata_cell_guid": "9c48ff2e-a6eb-4f02-8df2-988e219fbc00"
            },
            "attachments": {}
        },
        {
            "cell_type": "code",
            "source": [
                "-- SELECT series_id,series_title from series\r\n",
                "SELECT SUM(j17.value) AS weekly, industry_name FROM january_2017 as j17\r\n",
                "JOIN industry as i\r\n",
                "ON j17.id = i.id\r\n",
                "WHERE series_id LIKE '%30'  -- series_id 30 is Average weekly earnings of production and nonsupervisory employees\r\n",
                "AND industry_name IS NOT NULL\r\n",
                "GROUP BY industry_name\r\n",
                "ORDER BY weekly DESC\r\n",
                "     "
            ],
            "metadata": {
                "azdata_cell_guid": "c565641b-f1fa-4dbb-9320-24adfda97ca5",
                "language": "sql"
            },
            "outputs": [
                {
                    "output_type": "display_data",
                    "data": {
                        "text/html": "(74 rows affected)"
                    },
                    "metadata": {}
                },
                {
                    "output_type": "display_data",
                    "data": {
                        "text/html": "Total execution time: 00:00:00.107"
                    },
                    "metadata": {}
                },
                {
                    "output_type": "execute_result",
                    "metadata": {},
                    "execution_count": 23,
                    "data": {
                        "application/vnd.dataresource+json": {
                            "schema": {
                                "fields": [
                                    {
                                        "name": "weekly"
                                    },
                                    {
                                        "name": "industry_name"
                                    }
                                ]
                            },
                            "data": [
                                {
                                    "0": "1847.47",
                                    "1": "Monetary authorities - central bank"
                                },
                                {
                                    "0": "1773.7",
                                    "1": "Motor vehicle bodies and trailers"
                                },
                                {
                                    "0": "1655.98",
                                    "1": "General freight trucking"
                                },
                                {
                                    "0": "1614.25",
                                    "1": "Support activities for transportation"
                                },
                                {
                                    "0": "1581.46",
                                    "1": "Machine shops and threaded products"
                                },
                                {
                                    "0": "1560",
                                    "1": "Farm machinery and equipment"
                                },
                                {
                                    "0": "1558.66",
                                    "1": "Pet and pet supplies stores"
                                },
                                {
                                    "0": "1491.35",
                                    "1": "Other nonferrous metal production"
                                },
                                {
                                    "0": "1466.04",
                                    "1": "Transit and ground passenger transportation"
                                },
                                {
                                    "0": "1427.77",
                                    "1": "Fuel dealers"
                                },
                                {
                                    "0": "1412.75",
                                    "1": "Metal valves"
                                },
                                {
                                    "0": "1395.45",
                                    "1": "Plate work and fabricated structural products"
                                },
                                {
                                    "0": "1268.78",
                                    "1": "Special tools"
                                },
                                {
                                    "0": "1248.21",
                                    "1": "Children's and infants' clothing stores"
                                },
                                {
                                    "0": "1233.74",
                                    "1": "Information"
                                },
                                {
                                    "0": "1230.53",
                                    "1": "Wireless telecommunications carriers (except satellite)"
                                },
                                {
                                    "0": "1218.97",
                                    "1": "Motion picture and video production"
                                },
                                {
                                    "0": "1207.71",
                                    "1": "Wiring devices"
                                },
                                {
                                    "0": "1204.1",
                                    "1": "Printed circuit assemblies"
                                },
                                {
                                    "0": "1194.9",
                                    "1": "Hazardous waste treatment and disposal"
                                },
                                {
                                    "0": "1186.69",
                                    "1": "Electrical equipment and appliances"
                                },
                                {
                                    "0": "1179.62",
                                    "1": "All other specialty trade contractors"
                                },
                                {
                                    "0": "1174.24",
                                    "1": "Plumbing equipment"
                                },
                                {
                                    "0": "1133.94",
                                    "1": "Power generation and supply"
                                },
                                {
                                    "0": "1120.75",
                                    "1": "Warehouse clubs and supercenters"
                                },
                                {
                                    "0": "1102.45",
                                    "1": "Computer and peripheral equipment"
                                },
                                {
                                    "0": "1096.96",
                                    "1": "Direct life and health insurance carriers"
                                },
                                {
                                    "0": "1057.6",
                                    "1": "Other insurance-related activities"
                                },
                                {
                                    "0": "1014.93",
                                    "1": "Surgical appliances and supplies"
                                },
                                {
                                    "0": "1010.79",
                                    "1": "Residential building equipment contractors"
                                },
                                {
                                    "0": "1007.12",
                                    "1": "Carpet and upholstery cleaning services"
                                },
                                {
                                    "0": "1000.51",
                                    "1": "Computer and software"
                                },
                                {
                                    "0": "997.9",
                                    "1": "Druggists' goods"
                                },
                                {
                                    "0": "994.19",
                                    "1": "Other nondepository credit intermediation"
                                },
                                {
                                    "0": "987.37",
                                    "1": "Hobby"
                                },
                                {
                                    "0": "969.36",
                                    "1": "Goods-producing"
                                },
                                {
                                    "0": "965.68",
                                    "1": "Motor vehicle seating and interior trim"
                                },
                                {
                                    "0": "951.26",
                                    "1": "Securities brokerage"
                                },
                                {
                                    "0": "946.91",
                                    "1": "Soaps"
                                },
                                {
                                    "0": "936.03",
                                    "1": "Millwork"
                                },
                                {
                                    "0": "924.71",
                                    "1": "Ship building and repairing"
                                },
                                {
                                    "0": "880.88",
                                    "1": "Petroleum"
                                },
                                {
                                    "0": "855.75",
                                    "1": "Bituminous coal and lignite surface mining"
                                },
                                {
                                    "0": "851.24",
                                    "1": "Miscellaneous durable goods"
                                },
                                {
                                    "0": "823.55",
                                    "1": "Colleges and universities"
                                },
                                {
                                    "0": "804.86",
                                    "1": "Recreational vehicle dealers"
                                },
                                {
                                    "0": "795.87",
                                    "1": "Electronic markets and agents and brokers"
                                },
                                {
                                    "0": "792.1",
                                    "1": "Computer facilities management services"
                                },
                                {
                                    "0": "776.42",
                                    "1": "Other home furnishings stores"
                                },
                                {
                                    "0": "773.91",
                                    "1": "Residential remodelers"
                                },
                                {
                                    "0": "773.15",
                                    "1": "Converted paper products"
                                },
                                {
                                    "0": "770.41",
                                    "1": "Other nonmetallic mineral mining"
                                },
                                {
                                    "0": "763.73",
                                    "1": "Land subdivision"
                                },
                                {
                                    "0": "759.62",
                                    "1": "Other building material dealers"
                                },
                                {
                                    "0": "756.45",
                                    "1": "Environmental consulting services"
                                },
                                {
                                    "0": "744.75",
                                    "1": "Poured concrete structure contractors"
                                },
                                {
                                    "0": "738.53",
                                    "1": "Apparel"
                                },
                                {
                                    "0": "726.64",
                                    "1": "Fiber"
                                },
                                {
                                    "0": "726.13",
                                    "1": "Miniwarehouse and self-storage unit operators"
                                },
                                {
                                    "0": "721.09",
                                    "1": "Title abstract and settlement offices"
                                },
                                {
                                    "0": "712.92",
                                    "1": "Animal food"
                                },
                                {
                                    "0": "685.08",
                                    "1": "Employment placement agencies and executive search services"
                                },
                                {
                                    "0": "679.08",
                                    "1": "Public relations agencies"
                                },
                                {
                                    "0": "667.14",
                                    "1": "Other basic organic chemicals"
                                },
                                {
                                    "0": "640.04",
                                    "1": "Machinery and equipment rental and leasing"
                                },
                                {
                                    "0": "635.01",
                                    "1": "Rental and leasing services"
                                },
                                {
                                    "0": "631.9",
                                    "1": "Bakeries and tortilla manufacturing"
                                },
                                {
                                    "0": "630.13",
                                    "1": "Frozen specialty food"
                                },
                                {
                                    "0": "623.66",
                                    "1": "Furniture and furnishings"
                                },
                                {
                                    "0": "614.17",
                                    "1": "Telemarketing bureaus"
                                },
                                {
                                    "0": "607",
                                    "1": "Soft drinks"
                                },
                                {
                                    "0": "600.22",
                                    "1": "Investigation and security services"
                                },
                                {
                                    "0": "596.55",
                                    "1": "Food (health) supplement stores"
                                },
                                {
                                    "0": "592.88",
                                    "1": "Painting and wall covering contractors"
                                }
                            ]
                        },
                        "text/html": [
                            "<table>",
                            "<tr><th>weekly</th><th>industry_name</th></tr>",
                            "<tr><td>1847.47</td><td>Monetary authorities - central bank</td></tr>",
                            "<tr><td>1773.7</td><td>Motor vehicle bodies and trailers</td></tr>",
                            "<tr><td>1655.98</td><td>General freight trucking</td></tr>",
                            "<tr><td>1614.25</td><td>Support activities for transportation</td></tr>",
                            "<tr><td>1581.46</td><td>Machine shops and threaded products</td></tr>",
                            "<tr><td>1560</td><td>Farm machinery and equipment</td></tr>",
                            "<tr><td>1558.66</td><td>Pet and pet supplies stores</td></tr>",
                            "<tr><td>1491.35</td><td>Other nonferrous metal production</td></tr>",
                            "<tr><td>1466.04</td><td>Transit and ground passenger transportation</td></tr>",
                            "<tr><td>1427.77</td><td>Fuel dealers</td></tr>",
                            "<tr><td>1412.75</td><td>Metal valves</td></tr>",
                            "<tr><td>1395.45</td><td>Plate work and fabricated structural products</td></tr>",
                            "<tr><td>1268.78</td><td>Special tools</td></tr>",
                            "<tr><td>1248.21</td><td>Children's and infants' clothing stores</td></tr>",
                            "<tr><td>1233.74</td><td>Information</td></tr>",
                            "<tr><td>1230.53</td><td>Wireless telecommunications carriers (except satellite)</td></tr>",
                            "<tr><td>1218.97</td><td>Motion picture and video production</td></tr>",
                            "<tr><td>1207.71</td><td>Wiring devices</td></tr>",
                            "<tr><td>1204.1</td><td>Printed circuit assemblies</td></tr>",
                            "<tr><td>1194.9</td><td>Hazardous waste treatment and disposal</td></tr>",
                            "<tr><td>1186.69</td><td>Electrical equipment and appliances</td></tr>",
                            "<tr><td>1179.62</td><td>All other specialty trade contractors</td></tr>",
                            "<tr><td>1174.24</td><td>Plumbing equipment</td></tr>",
                            "<tr><td>1133.94</td><td>Power generation and supply</td></tr>",
                            "<tr><td>1120.75</td><td>Warehouse clubs and supercenters</td></tr>",
                            "<tr><td>1102.45</td><td>Computer and peripheral equipment</td></tr>",
                            "<tr><td>1096.96</td><td>Direct life and health insurance carriers</td></tr>",
                            "<tr><td>1057.6</td><td>Other insurance-related activities</td></tr>",
                            "<tr><td>1014.93</td><td>Surgical appliances and supplies</td></tr>",
                            "<tr><td>1010.79</td><td>Residential building equipment contractors</td></tr>",
                            "<tr><td>1007.12</td><td>Carpet and upholstery cleaning services</td></tr>",
                            "<tr><td>1000.51</td><td>Computer and software</td></tr>",
                            "<tr><td>997.9</td><td>Druggists' goods</td></tr>",
                            "<tr><td>994.19</td><td>Other nondepository credit intermediation</td></tr>",
                            "<tr><td>987.37</td><td>Hobby</td></tr>",
                            "<tr><td>969.36</td><td>Goods-producing</td></tr>",
                            "<tr><td>965.68</td><td>Motor vehicle seating and interior trim</td></tr>",
                            "<tr><td>951.26</td><td>Securities brokerage</td></tr>",
                            "<tr><td>946.91</td><td>Soaps</td></tr>",
                            "<tr><td>936.03</td><td>Millwork</td></tr>",
                            "<tr><td>924.71</td><td>Ship building and repairing</td></tr>",
                            "<tr><td>880.88</td><td>Petroleum</td></tr>",
                            "<tr><td>855.75</td><td>Bituminous coal and lignite surface mining</td></tr>",
                            "<tr><td>851.24</td><td>Miscellaneous durable goods</td></tr>",
                            "<tr><td>823.55</td><td>Colleges and universities</td></tr>",
                            "<tr><td>804.86</td><td>Recreational vehicle dealers</td></tr>",
                            "<tr><td>795.87</td><td>Electronic markets and agents and brokers</td></tr>",
                            "<tr><td>792.1</td><td>Computer facilities management services</td></tr>",
                            "<tr><td>776.42</td><td>Other home furnishings stores</td></tr>",
                            "<tr><td>773.91</td><td>Residential remodelers</td></tr>",
                            "<tr><td>773.15</td><td>Converted paper products</td></tr>",
                            "<tr><td>770.41</td><td>Other nonmetallic mineral mining</td></tr>",
                            "<tr><td>763.73</td><td>Land subdivision</td></tr>",
                            "<tr><td>759.62</td><td>Other building material dealers</td></tr>",
                            "<tr><td>756.45</td><td>Environmental consulting services</td></tr>",
                            "<tr><td>744.75</td><td>Poured concrete structure contractors</td></tr>",
                            "<tr><td>738.53</td><td>Apparel</td></tr>",
                            "<tr><td>726.64</td><td>Fiber</td></tr>",
                            "<tr><td>726.13</td><td>Miniwarehouse and self-storage unit operators</td></tr>",
                            "<tr><td>721.09</td><td>Title abstract and settlement offices</td></tr>",
                            "<tr><td>712.92</td><td>Animal food</td></tr>",
                            "<tr><td>685.08</td><td>Employment placement agencies and executive search services</td></tr>",
                            "<tr><td>679.08</td><td>Public relations agencies</td></tr>",
                            "<tr><td>667.14</td><td>Other basic organic chemicals</td></tr>",
                            "<tr><td>640.04</td><td>Machinery and equipment rental and leasing</td></tr>",
                            "<tr><td>635.01</td><td>Rental and leasing services</td></tr>",
                            "<tr><td>631.9</td><td>Bakeries and tortilla manufacturing</td></tr>",
                            "<tr><td>630.13</td><td>Frozen specialty food</td></tr>",
                            "<tr><td>623.66</td><td>Furniture and furnishings</td></tr>",
                            "<tr><td>614.17</td><td>Telemarketing bureaus</td></tr>",
                            "<tr><td>607</td><td>Soft drinks</td></tr>",
                            "<tr><td>600.22</td><td>Investigation and security services</td></tr>",
                            "<tr><td>596.55</td><td>Food (health) supplement stores</td></tr>",
                            "<tr><td>592.88</td><td>Painting and wall covering contractors</td></tr>",
                            "</table>"
                        ]
                    }
                }
            ],
            "execution_count": 23
        },
        {
            "cell_type": "markdown",
            "source": [
                "6. <span style=\"background-color: rgb(255, 255, 255); font-size: 10pt; white-space: pre-wrap; color: rgb(102, 102, 102); font-family: Arvo, serif;\">In January 2017, which industry was the average weekly hours worked by production and nonsupervisory employees the highest? Which industry was the lowest? </span> ANS : Highest average weekly hours of production and nonsupervisory employees are from 'waste collection' industry and the lowest is 'offices of lawyers'."
            ],
            "metadata": {
                "azdata_cell_guid": "862fd406-4fff-49bb-9d2b-232275a06405"
            },
            "attachments": {}
        },
        {
            "cell_type": "code",
            "source": [
                "USE LaborStatisticsDB\r\n",
                "SELECT TOP 1 j17.value, i.industry_name FROM january_2017 as j17\r\n",
                "JOIN industry as i \r\n",
                "ON j17.id = i.id \r\n",
                "WHERE j17.series_id LIKE '%07'  --series_id 07 is Average weekly hours of production and nonsupervisory employees\r\n",
                "ORDER BY j17.value DESC "
            ],
            "metadata": {
                "azdata_cell_guid": "01e11050-5f2f-4d22-92e0-2b3024b80a5f",
                "language": "sql"
            },
            "outputs": [
                {
                    "output_type": "display_data",
                    "data": {
                        "text/html": "(1 row affected)"
                    },
                    "metadata": {}
                },
                {
                    "output_type": "display_data",
                    "data": {
                        "text/html": "Total execution time: 00:00:00.244"
                    },
                    "metadata": {}
                },
                {
                    "output_type": "execute_result",
                    "execution_count": 42,
                    "data": {
                        "application/vnd.dataresource+json": {
                            "schema": {
                                "fields": [
                                    {
                                        "name": "value"
                                    },
                                    {
                                        "name": "industry_name"
                                    }
                                ]
                            },
                            "data": [
                                {
                                    "0": "42",
                                    "1": "Waste collection"
                                }
                            ]
                        },
                        "text/html": "<table><tr><th>value</th><th>industry_name</th></tr><tr><td>42</td><td>Waste collection</td></tr></table>"
                    },
                    "metadata": {}
                }
            ],
            "execution_count": 42
        },
        {
            "cell_type": "code",
            "source": [
                "SELECT TOP 1 j17.value, i.industry_name FROM january_2017 as j17\r\n",
                "JOIN industry as i \r\n",
                "ON j17.id = i.id \r\n",
                "WHERE j17.series_id LIKE '%07' -- series_id 07 is Average weekly hours of production and nonsupervisory employees\r\n",
                "ORDER BY j17.value "
            ],
            "metadata": {
                "language": "sql",
                "azdata_cell_guid": "2eb5694d-ff18-4703-8579-2ce905841f9c"
            },
            "outputs": [
                {
                    "output_type": "display_data",
                    "data": {
                        "text/html": "(1 row affected)"
                    },
                    "metadata": {}
                },
                {
                    "output_type": "display_data",
                    "data": {
                        "text/html": "Total execution time: 00:00:00.201"
                    },
                    "metadata": {}
                },
                {
                    "output_type": "execute_result",
                    "execution_count": 43,
                    "data": {
                        "application/vnd.dataresource+json": {
                            "schema": {
                                "fields": [
                                    {
                                        "name": "value"
                                    },
                                    {
                                        "name": "industry_name"
                                    }
                                ]
                            },
                            "data": [
                                {
                                    "0": "30.4",
                                    "1": "Offices of lawyers"
                                }
                            ]
                        },
                        "text/html": "<table><tr><th>value</th><th>industry_name</th></tr><tr><td>30.4</td><td>Offices of lawyers</td></tr></table>"
                    },
                    "metadata": {}
                }
            ],
            "execution_count": 43
        },
        {
            "cell_type": "markdown",
            "source": [
                "7. <span style=\"background-color: rgb(255, 255, 255); font-size: 10pt; white-space: pre-wrap; color: rgb(102, 102, 102); font-family: Arvo, serif;\">In January 2021, which industry was the total weekly payroll for production and nonsupervisory employees the highest? Which industry was the lowest? ANS : The highest weekly payroll for production and nonsupervisory employees is '</span><span style=\"font-size: 13.3333px; white-space: pre-wrap;\">Monetary authorities - central bank' with weekly payroll of 1848$ and the lowest is 'Painting and wall covering contractors' with weekly payroll of $593.</span>"
            ],
            "metadata": {
                "azdata_cell_guid": "a53f4113-60c6-46d1-b9a3-34610c61d4f9"
            },
            "attachments": {}
        },
        {
            "cell_type": "code",
            "source": [
                "USE LaborStatisticsDB\r\n",
                "SELECT TOP 3 j17.value, i.industry_name FROM january_2017 as j17\r\n",
                "JOIN industry as i \r\n",
                "ON j17.id = i.id \r\n",
                "WHERE j17.series_id LIKE '%30'  -- series_id 30 is Average weekly earnings of production and nonsupervisory employees\r\n",
                "ORDER BY j17.value DESC"
            ],
            "metadata": {
                "azdata_cell_guid": "583695e6-7438-4e03-8970-1fe0c677a793",
                "language": "sql"
            },
            "outputs": [
                {
                    "output_type": "display_data",
                    "data": {
                        "text/html": "(3 rows affected)"
                    },
                    "metadata": {}
                },
                {
                    "output_type": "display_data",
                    "data": {
                        "text/html": "Total execution time: 00:00:00.283"
                    },
                    "metadata": {}
                },
                {
                    "output_type": "execute_result",
                    "metadata": {},
                    "execution_count": 15,
                    "data": {
                        "application/vnd.dataresource+json": {
                            "schema": {
                                "fields": [
                                    {
                                        "name": "value"
                                    },
                                    {
                                        "name": "industry_name"
                                    }
                                ]
                            },
                            "data": [
                                {
                                    "0": "1847.47",
                                    "1": "Monetary authorities - central bank"
                                },
                                {
                                    "0": "1773.7",
                                    "1": "Motor vehicle bodies and trailers"
                                },
                                {
                                    "0": "1655.98",
                                    "1": "General freight trucking"
                                }
                            ]
                        },
                        "text/html": [
                            "<table>",
                            "<tr><th>value</th><th>industry_name</th></tr>",
                            "<tr><td>1847.47</td><td>Monetary authorities - central bank</td></tr>",
                            "<tr><td>1773.7</td><td>Motor vehicle bodies and trailers</td></tr>",
                            "<tr><td>1655.98</td><td>General freight trucking</td></tr>",
                            "</table>"
                        ]
                    }
                }
            ],
            "execution_count": 15
        },
        {
            "cell_type": "code",
            "source": [
                "USE LaborStatisticsDB\r\n",
                "SELECT TOP 1 j17.value, i.industry_name FROM january_2017 as j17\r\n",
                "JOIN industry as i \r\n",
                "ON j17.id = i.id \r\n",
                "WHERE j17.series_id LIKE '%30' \r\n",
                "ORDER BY j17.value \r\n",
                "     "
            ],
            "metadata": {
                "language": "sql",
                "azdata_cell_guid": "202c7a85-284f-4753-9daa-f66af2b5024a"
            },
            "outputs": [
                {
                    "output_type": "display_data",
                    "data": {
                        "text/html": "(1 row affected)"
                    },
                    "metadata": {}
                },
                {
                    "output_type": "display_data",
                    "data": {
                        "text/html": "Total execution time: 00:00:00.289"
                    },
                    "metadata": {}
                },
                {
                    "output_type": "execute_result",
                    "execution_count": 31,
                    "data": {
                        "application/vnd.dataresource+json": {
                            "schema": {
                                "fields": [
                                    {
                                        "name": "value"
                                    },
                                    {
                                        "name": "industry_name"
                                    }
                                ]
                            },
                            "data": [
                                {
                                    "0": "592.88",
                                    "1": "Painting and wall covering contractors"
                                }
                            ]
                        },
                        "text/html": "<table><tr><th>value</th><th>industry_name</th></tr><tr><td>592.88</td><td>Painting and wall covering contractors</td></tr></table>"
                    },
                    "metadata": {}
                }
            ],
            "execution_count": 31
        },
        {
            "cell_type": "markdown",
            "source": [
                "## <span style=\"font-size: 12pt; font-family: Montserrat, sans-serif; color: rgb(53, 74, 95); background-color: rgb(255, 255, 255); font-weight: 700; font-variant-numeric: normal; font-variant-east-asian: normal; vertical-align: baseline; white-space: pre-wrap;\">Subqueries, Unions, Derived Tables, Oh My!</span>\n",
                "\n",
                "1. <span style=\"background-color: rgb(255, 255, 255); font-size: 10pt; white-space: pre-wrap; color: rgb(102, 102, 102); font-family: Arvo, serif;\">Write a query that returns the series_id, industry_code, industry_name, and value from the january_2017 table but only if that value is greater than the average value for annual_2016 of data_type_code 82.</span>"
            ],
            "metadata": {
                "azdata_cell_guid": "e98ec195-5399-4718-83ef-54fb954662a5"
            },
            "attachments": {}
        },
        {
            "cell_type": "code",
            "source": [
                "SELECT TOP 10 j17.series_id, j17.value AS \"weekly payroll\", i.industry_code, i.industry_name FROM january_2017 AS j17\r\n",
                "LEFT JOIN industry as i \r\n",
                "ON j17.id = i.id \r\n",
                "WHERE i.industry_name IS NOT NULL\r\n",
                "AND j17.value >\r\n",
                "(\r\n",
                "    SELECT AVG(a16.value) \r\n",
                "    FROM annual_2016 as a16\r\n",
                "    WHERE a16.series_id LIKE '%82' --both data_type_code and series_id are same -Aggregate weekly payrolls of production and nonsupervisory employees\r\n",
                ") \r\n",
                ""
            ],
            "metadata": {
                "azdata_cell_guid": "7c85f70b-528f-4cbd-bd8e-a6efab1c18df",
                "language": "sql"
            },
            "outputs": [
                {
                    "output_type": "display_data",
                    "data": {
                        "text/html": "(10 rows affected)"
                    },
                    "metadata": {}
                },
                {
                    "output_type": "display_data",
                    "data": {
                        "text/html": "Total execution time: 00:00:00.130"
                    },
                    "metadata": {}
                },
                {
                    "output_type": "execute_result",
                    "execution_count": 59,
                    "data": {
                        "application/vnd.dataresource+json": {
                            "schema": {
                                "fields": [
                                    {
                                        "name": "series_id"
                                    },
                                    {
                                        "name": "weekly payroll"
                                    },
                                    {
                                        "name": "industry_code"
                                    },
                                    {
                                        "name": "industry_name"
                                    }
                                ]
                            },
                            "data": [
                                {
                                    "0": "CES5500000082",
                                    "1": "6328968",
                                    "2": "10211000",
                                    "3": "Oil and gas extraction"
                                },
                                {
                                    "0": "CES5552210082",
                                    "1": "971796",
                                    "2": "20236115",
                                    "3": "New single-family general contractors"
                                },
                                {
                                    "0": "CES5552300082",
                                    "1": "1044224",
                                    "2": "31332100",
                                    "3": "Forging and stamping"
                                },
                                {
                                    "0": "CES5552400082",
                                    "1": "2347328",
                                    "2": "31334400",
                                    "3": "Semiconductors and electronic components"
                                },
                                {
                                    "0": "CES5552410082",
                                    "1": "1477799",
                                    "2": "31334515",
                                    "3": "Electricity and signal testing instruments"
                                },
                                {
                                    "0": "CES5552420082",
                                    "1": "872398",
                                    "2": "31336413",
                                    "3": "Other aircraft parts and equipment"
                                },
                                {
                                    "0": "CES5553100082",
                                    "1": "862987",
                                    "2": "32311400",
                                    "3": "Fruit and vegetable preserving and specialty"
                                },
                                {
                                    "0": "CEU5500000082",
                                    "1": "6467426",
                                    "2": "41424500",
                                    "3": "Farm product raw materials"
                                },
                                {
                                    "0": "CEU5552200082",
                                    "1": "1767137",
                                    "2": "41424920",
                                    "3": "Books and periodicals"
                                },
                                {
                                    "0": "CEU5552210082",
                                    "1": "1004069",
                                    "2": "42441110",
                                    "3": "New car dealers"
                                }
                            ]
                        },
                        "text/html": "<table><tr><th>series_id</th><th>weekly payroll</th><th>industry_code</th><th>industry_name</th></tr><tr><td>CES5500000082</td><td>6328968</td><td>10211000</td><td>Oil and gas extraction</td></tr><tr><td>CES5552210082</td><td>971796</td><td>20236115</td><td>New single-family general contractors</td></tr><tr><td>CES5552300082</td><td>1044224</td><td>31332100</td><td>Forging and stamping</td></tr><tr><td>CES5552400082</td><td>2347328</td><td>31334400</td><td>Semiconductors and electronic components</td></tr><tr><td>CES5552410082</td><td>1477799</td><td>31334515</td><td>Electricity and signal testing instruments</td></tr><tr><td>CES5552420082</td><td>872398</td><td>31336413</td><td>Other aircraft parts and equipment</td></tr><tr><td>CES5553100082</td><td>862987</td><td>32311400</td><td>Fruit and vegetable preserving and specialty</td></tr><tr><td>CEU5500000082</td><td>6467426</td><td>41424500</td><td>Farm product raw materials</td></tr><tr><td>CEU5552200082</td><td>1767137</td><td>41424920</td><td>Books and periodicals</td></tr><tr><td>CEU5552210082</td><td>1004069</td><td>42441110</td><td>New car dealers</td></tr></table>"
                    },
                    "metadata": {}
                }
            ],
            "execution_count": 59
        },
        {
            "cell_type": "markdown",
            "source": [
                "2. <span style=\"background-color: rgb(255, 255, 255); font-size: 10pt; white-space: pre-wrap; color: rgb(102, 102, 102); font-family: Arvo, serif;\">Create a Union table comparing average weekly earnings&nbsp; of production and nonsupervisory employees between annual_16 and january_17 using the data type 30.&nbsp; Round to the nearest penny.&nbsp; You should have a column for the average earnings and a column for the year, and the period.</span>"
            ],
            "metadata": {
                "azdata_cell_guid": "1bb0ed09-4b02-4132-910e-5903697628af"
            },
            "attachments": {}
        },
        {
            "cell_type": "code",
            "source": [
                "\r\n",
                "SELECT top 1 a16.year, a16.period, a16.value AS \"average earnings\"\r\n",
                "FROM annual_2016 AS a16 \r\n",
                "WHERE a16.series_id LIKE '%30' \r\n",
                "UNION \r\n",
                "SELECT top 1 j17.year, j17.period, j17.value\r\n",
                "FROM january_2017 AS j17 \r\n",
                "WHERE j17.series_id LIKE '%30'\r\n",
                "ORDER BY \"average earnings\" DESC"
            ],
            "metadata": {
                "azdata_cell_guid": "0841b6d6-9af2-41ba-8e28-dc40d08bd061",
                "language": "sql"
            },
            "outputs": [
                {
                    "output_type": "display_data",
                    "data": {
                        "text/html": "(2 rows affected)"
                    },
                    "metadata": {}
                },
                {
                    "output_type": "display_data",
                    "data": {
                        "text/html": "Total execution time: 00:00:00.322"
                    },
                    "metadata": {}
                },
                {
                    "output_type": "execute_result",
                    "metadata": {},
                    "execution_count": 14,
                    "data": {
                        "application/vnd.dataresource+json": {
                            "schema": {
                                "fields": [
                                    {
                                        "name": "year"
                                    },
                                    {
                                        "name": "period"
                                    },
                                    {
                                        "name": "average earnings"
                                    }
                                ]
                            },
                            "data": [
                                {
                                    "0": "2017",
                                    "1": "M01",
                                    "2": "969.36"
                                },
                                {
                                    "0": "2016",
                                    "1": "M13",
                                    "2": "962.73"
                                }
                            ]
                        },
                        "text/html": [
                            "<table>",
                            "<tr><th>year</th><th>period</th><th>average earnings</th></tr>",
                            "<tr><td>2017</td><td>M01</td><td>969.36</td></tr>",
                            "<tr><td>2016</td><td>M13</td><td>962.73</td></tr>",
                            "</table>"
                        ]
                    }
                }
            ],
            "execution_count": 14
        },
        {
            "cell_type": "markdown",
            "source": [
                "## <span style=\"font-size:12pt;font-family:Montserrat, sans-serif;color:rgb(53, 74, 95);background-color:rgb(255, 255, 255);font-weight:700;vertical-align:baseline;white-space:pre-wrap;\">Summarize Your Results</span>\n",
                "\n",
                "<span style=\"font-size:10pt;font-family:Arvo, serif;color:rgb(102, 102, 102);background-color:rgb(255, 255, 255);vertical-align:baseline;white-space:pre-wrap;\">With what you know now about the </span> <span style=\"background-color:rgb(255, 255, 255);color:rgb(102, 102, 102);font-family:&quot;Times New Roman&quot;;font-size:13.3333px;white-space:pre-wrap;\">Bureau of Labor Statistics (BLS) Current Employment Survey (CES) results and working with the</span> <span style=\"color:rgb(102, 102, 102);white-space:pre-wrap;font-family:&quot;Times New Roman&quot;;font-size:13.3333px;\">Labor Statistics Database</span><span style=\"background-color:rgb(255, 255, 255);color:rgb(102, 102, 102);font-family:Arvo, serif;font-size:10pt;white-space:pre-wrap;\">, answer the following questions. Note that while this is subjective, you should include relevant data to back up your opinion.</span>\n",
                "\n",
                "1. <span style=\"background-color:rgb(255, 255, 255);font-size:10pt;white-space:pre-wrap;color:rgb(102, 102, 102);font-family:Arvo, serif;\">During which time period did production and nonsupervisory employees fare better?</span>"
            ],
            "metadata": {
                "azdata_cell_guid": "780f65a6-b9e7-4f24-9132-293c47f559e8"
            },
            "attachments": {}
        },
        {
            "cell_type": "markdown",
            "source": [
                "The year 2017 has better production and supervisory employees fare than the year 2016."
            ],
            "metadata": {
                "azdata_cell_guid": "f11f1fb2-f7d1-41e5-bc9c-84087d7cfc93"
            },
            "attachments": {}
        },
        {
            "cell_type": "markdown",
            "source": [
                "2. <span style=\"background-color: rgb(255, 255, 255); font-size: 10pt; white-space: pre-wrap; color: rgb(102, 102, 102); font-family: Arvo, serif;\">In which industries did production and nonsupervisory employees fare better?</span>"
            ],
            "metadata": {
                "azdata_cell_guid": "f606e5e5-f6f1-4070-bbfa-e31617b43e56"
            },
            "attachments": {}
        },
        {
            "cell_type": "markdown",
            "source": [
                "Banking (Monetary authories-Central bank) followed by Motor vehicle bodies and trailers and General freight trucking has the better fare for production and nonsupervisory employees."
            ],
            "metadata": {
                "azdata_cell_guid": "94e18f5d-b87b-4ba6-b1fd-bde035dafc04"
            },
            "attachments": {}
        },
        {
            "cell_type": "markdown",
            "source": [
                "3. <span style=\"font-size: 10pt; font-family: Arvo, serif; color: rgb(102, 102, 102); background-color: rgb(255, 255, 255); font-variant-numeric: normal; font-variant-east-asian: normal; vertical-align: baseline; white-space: pre-wrap;\">Now that you have explored the datasets, is there any data or information that you wish you had in this analysis?</span>"
            ],
            "metadata": {
                "azdata_cell_guid": "101e4449-601a-46c6-b217-23f3339cfa76"
            },
            "attachments": {}
        },
        {
            "cell_type": "markdown",
            "source": [
                "Had lot of confusions with the value columns it would have been given separately with values like money,person count,etc. There were many unneccessary columns which made it difficult to understand the tables."
            ],
            "metadata": {
                "azdata_cell_guid": "d07e9180-f5e0-49b4-b395-2c6c8a5f8aac"
            },
            "attachments": {}
        }
    ]
}